{
 "cells": [
  {
   "cell_type": "code",
   "execution_count": 1,
   "metadata": {
    "collapsed": true
   },
   "outputs": [],
   "source": [
    "%matplotlib tk\n",
    "%load_ext memory_profiler\n",
    "%load_ext line_profiler"
   ]
  },
  {
   "cell_type": "code",
   "execution_count": 2,
   "metadata": {
    "collapsed": true
   },
   "outputs": [],
   "source": [
    "import numpy as np\n",
    "import scipy.io as sio\n",
    "import time\n",
    "#from numba import jit, prange, int32\n",
    "from numba import jit, prange\n",
    "import scipy.signal as sg\n",
    "from scipy.stats import pearsonr\n",
    "import matplotlib.pyplot as pl\n",
    "import pygmo as po\n",
    "import seaborn as sns \n",
    "import pandas as pd \n",
    "import datetime\n",
    "from mpl_toolkits.mplot3d import Axes3D\n",
    "import matplotlib \n"
   ]
  },
  {
   "cell_type": "code",
   "execution_count": 63,
   "metadata": {},
   "outputs": [
    {
     "name": "stderr",
     "output_type": "stream",
     "text": [
      "/home/oscar/anaconda2/envs/ipy36/lib/python3.6/site-packages/numba/decorators.py:146: RuntimeWarning: Caching is not available when the 'parallel' target is in use. Caching is now being disabled to allow execution to continue.\n",
      "  warnings.warn(msg, RuntimeWarning)\n"
     ]
    }
   ],
   "source": [
    "class kMcabral():\n",
    "    \"\"\" Kuramoto Model by Cabral without noise\"\"\"\n",
    "    def __init__(self):\n",
    "        self.tMax     = np.float32(3.0)\n",
    "        self.tMin     = np.float32(1.0)\n",
    "        self.fs       = np.float32(250.0)\n",
    "        self.omega    = np.float32(2*np.pi* 40.0)\n",
    "        self.dlt      = np.float32(1.0)\n",
    "        self.pathData = '/home/oscar/Documents/MATLAB/Kuramoto/Cabral/'\n",
    "        self.nameDTI  = 'AAL_matrices.mat'         # anatomical network\n",
    "        self.nameFC   = 'Real_Band_FC.mat'     # Empirical Functional connectivity\n",
    "        self.dt       = np.float32(2e-4)\n",
    "        self._getEmpiricalData()\n",
    "        self._desingFilterBands()\n",
    "        self.log      = np.empty((0,5))\n",
    "        \n",
    "    def get_mylogs(self):\n",
    "        return self.log\n",
    "    \n",
    "    def get_name(self):\n",
    "        return \"KM Cabral\"\n",
    "          \n",
    "    def _getEmpiricalData(self): \n",
    "        # load anatomical data\n",
    "        loaddata    = self.pathData + self.nameDTI\n",
    "        dti         = sio.loadmat(loaddata)     # C: structural connectivity, D: distance between areas.\n",
    "        self.D      = dti['D']                  # Distances beween nodes\n",
    "        anato       = dti['C']                  # Strucural/anatomical network\n",
    "        self.C      = np.shape(self.D)[1]       # number of nodes/brain areas\n",
    "        self.anato  = anato / np.mean(anato[~np.identity(self.C,dtype=bool)])   # normalize structural network to a mean = 1\n",
    "        # load functional data\n",
    "        loaddata    = self.pathData + self.nameFC\n",
    "        empiri      = sio.loadmat(loaddata)              # fBands: frequency bands, FCf:functional connectivity\n",
    "        self.fBands = empiri['freq_bands'].astype(float) # bandpass filter frequency bands\n",
    "        self.empiFC      = empiri['FC_Env_mean']              # empiprical functional connectivity\n",
    "        self.empiProfile = []\n",
    "        for ix in range(0,self.fBands.shape[0]):         # Profile Empirical data\n",
    "            empi1            = self.empiFC[ix,...]\n",
    "            self.empiProfile = np.append(self.empiProfile, empi1[np.triu_indices(self.C,1)])\n",
    "        self.empiProfile = np.clip(self.empiProfile, a_min=0, a_max=None)\n",
    "        \n",
    "    def _desingFilterBands(self):\n",
    "        nyq   = self.fs / 2.0\n",
    "        trans = 2.0\n",
    "        self.coeFil = []\n",
    "        for freq in self.fBands:\n",
    "            # Filter frequency bands\n",
    "            passCut = freq / nyq\n",
    "            stopCut = [(freq[0] - trans) / nyq, (freq[1] + trans) / nyq]\n",
    "            self.coeFil.append(sg.iirdesign(passCut, stopCut, gpass=0.0025, gstop=30.0,\n",
    "                                            analog=False, ftype='cheby2', output='sos'))\n",
    "        # Filter envelops\n",
    "        self.coeFilEnv = sg.iirdesign(0.5 / nyq, (0.5+trans)/nyq , gpass=0.0025, gstop=30.0,\n",
    "                                            analog=False, ftype='cheby2', output='sos')\n",
    "    \n",
    "    def _doKuramotoOrder(self, z):\n",
    "        # global order\n",
    "        ordG        = np.abs( np.mean( z[:,int(self.tMin*self.fs):], axis = 0 ))\n",
    "        orderG      = np.mean(ordG)\n",
    "        orderGstd   = np.std(ordG)\n",
    "        return orderG, orderGstd,    \n",
    "    \n",
    "    def fitness(self,x):\n",
    "        vel     = x[0]\n",
    "        kG      = x[1]\n",
    "        kS      = self.getAnatoCoupling(kG)\n",
    "        dlayStep, maxDlay = self.getDelays(vel)\n",
    "        phi     = self._doNodeContainers(maxDlay)\n",
    "        dlayIdx = self.doIndexDelay(phi,dlayStep)\n",
    "        z    = kMcabral._KMcabral(phi,maxDlay,dlayStep,self.fs,self.dt,kS,self.omega)\n",
    "        self.z = z\n",
    "        fit, self.simuProfile = self._fitFilterBands(z)\n",
    "        orderG, orderGstd = self._doKuramotoOrder(z)\n",
    "        self.log    = np.vstack((self.log, np.array([fit,vel,kG,orderG,orderGstd])))\n",
    "        return np.array([fit])\n",
    "    \n",
    "    def doIndexDelay(self,r,dlayStep):\n",
    "        commuOff = np.arange(0,r.shape[0]) * r.shape[1]\n",
    "        commuOff = np.tile(commuOff,(r.shape[0],1)).T\n",
    "        outpu = dlayStep + commuOff\n",
    "        return outpu\n",
    "    \n",
    "    def getAnatoCoupling(self,kG):\n",
    "        \"\"\"Get anatomical network with couplings\"\"\"\n",
    "        kS = self.anato * kG / self.C        # Globa  coupling\n",
    "        np.fill_diagonal(kS, 0)              # Local coupling\n",
    "        return np.float32(kS)\n",
    "    \n",
    "    def getDelays(self,vel):\n",
    "        \"\"\"Return maximum delay and delay steps in samples\"\"\"\n",
    "        dlay        = self.D / (1000.0 * vel)                # [seconds] correct from mm to m\n",
    "        dlayStep    = np.around(dlay / self.dt).astype(np.int64)  # delay on steps backwards to be done\n",
    "        maxDlay     = np.int64(np.max(dlayStep))                  # number of time steps for the longest delay\n",
    "        return dlayStep, maxDlay\n",
    "    \n",
    "    def get_bounds(self):\n",
    "        \"\"\"Boundaries on: velocity, Kl, Kg\"\"\"\n",
    "        return ([0.1, 0.01],[25, 5000])\n",
    "    \n",
    "    def _fitFilterBands(self,z):\n",
    "        simuProfile = []\n",
    "        for coefsos in self.coeFil:\n",
    "            # filter frequency bands\n",
    "            zFilt   = sg.sosfiltfilt(coefsos, np.imag(z), axis=1, padtype='odd')\n",
    "            zEnv    = np.abs(sg.hilbert(zFilt, axis=1))\n",
    "            # filter envelope\n",
    "            zEnvFilt= sg.sosfiltfilt(self.coeFilEnv, zEnv, axis=1, padtype='odd')\n",
    "            # Correlation discarding warmup time\n",
    "            envCo = np.corrcoef(zEnvFilt[:,int(self.tMin*self.fs):-int(self.tMin*self.fs/2)], rowvar=True)\n",
    "            # set to zero negative correlations\n",
    "            envCo = np.clip(envCo, a_min=0, a_max=None)\n",
    "            simuProfile  = np.append(simuProfile, envCo[np.triu_indices(z.shape[0],1)])\n",
    "        #print(simuProfile.shape)\n",
    "        ccoef, pval = pearsonr(simuProfile, self.empiProfile)\n",
    "        return -1 * ccoef, simuProfile\n",
    "    \n",
    "    #complex128[:,:](float32[:,:],float32[:,:],int64,int64[:,:],float32,float32,float32,float32,float32[:,:],float32), \n",
    "    @jit(nopython=True,cache=True,nogil=True,parallel=True,fastmath=False)\n",
    "    def _KMcabral(phi,maxDlay,dlayStep,fs,dt,kS,omga):\n",
    "        C       = phi.shape[0]\n",
    "        #nodes   = range(C)        \n",
    "        pi2     = np.float32(2 * np.pi)\n",
    "        phidt   = np.zeros(C, dtype=np.float32)\n",
    "        difKsin = np.zeros((C,C), dtype=np.float32)\n",
    "        phiDif  = np.zeros((C,C), dtype=np.float32)\n",
    "        for n in range(maxDlay, phi.shape[1]-1):\n",
    "            idD     = n - dlayStep\n",
    "            phi_r = phi.ravel()\n",
    "            for s in prange(C):\n",
    "                phiDif[:,s]       = phi_r[idD[:,s]] - phi[s,n]            \n",
    "            difKsin = kS * np.sin(phiDif)\n",
    "            phidt    = np.sum(difKsin, axis=0) \n",
    "            phi_n = phi[:,n] + dt * (phidt+omga)\n",
    "            phi[:,n+1]  = np.remainder(phi_n, pi2)\n",
    "            \n",
    "        phi     = phi[:,maxDlay+1:]\n",
    "        # simple downsampling (there may be aliasing)\n",
    "        phi = phi[:,::np.int64(1./(fs*dt))]\n",
    "        return 1.0 * np.exp(1j* phi)\n",
    "    \n",
    "    def _doNodeContainers(self,maxDlay):      \n",
    "        # node's variables\n",
    "        #import pdb; pdb.set_trace()\n",
    "        phi         = np.empty((self.C, int(self.tMax/self.dt + maxDlay)), dtype=np.float32) # node phase parameter [C, Nsamples to integrate]\n",
    "        # initial conditions as history for the time delays\n",
    "        omegaT      = self.omega * np.linspace(0, maxDlay*self.dt+self.dt,maxDlay+1, dtype=np.float32)\n",
    "        phi[:,0:maxDlay+1]  = np.tile(np.remainder(omegaT,2*np.pi),(self.C,1))\n",
    "        return phi\n",
    "    \n",
    "    def setVariablesModel(self,x):\n",
    "        \"set the basic variable need to run the KM model\"\n",
    "        vel     = x[0]\n",
    "        kG      = x[1]\n",
    "        self.kS      = self.getAnatoCoupling(kG)\n",
    "        self.dlayStep, self.maxDlay = self.getDelays(vel)\n",
    "        self.phi     = self._doNodeContainers(self.maxDlay)\n",
    "        self.dlayId  = self.doIndexDelay(self.phi,self.dlayStep)\n",
    "        \n",
    "        \n",
    "        "
   ]
  },
  {
   "cell_type": "code",
   "execution_count": 64,
   "metadata": {
    "collapsed": true
   },
   "outputs": [],
   "source": [
    "kmc = kMcabral()\n",
    "kmc.setVariablesModel([0.9,150])\n",
    "#outKM =  kMcabral._KMcabral(kmc.phi,kmc.maxDlay,kmc.dlayStep,kmc.fs,kmc.dt,kmc.kS,kmc.omega)\n",
    "#kmc.fitness([0.9,150])\n",
    "#%timeit kmc.fitness([0.9,150])"
   ]
  },
  {
   "cell_type": "code",
   "execution_count": 65,
   "metadata": {},
   "outputs": [
    {
     "name": "stdout",
     "output_type": "stream",
     "text": [
      "1.28 s ± 24.9 ms per loop (mean ± std. dev. of 7 runs, 1 loop each)\n"
     ]
    }
   ],
   "source": [
    "%timeit  kMcabral._KMcabral(kmc.phi,kmc.maxDlay,kmc.dlayStep,kmc.fs,kmc.dt,kmc.kS,kmc.omega)"
   ]
  },
  {
   "cell_type": "code",
   "execution_count": 14,
   "metadata": {},
   "outputs": [
    {
     "name": "stdout",
     "output_type": "stream",
     "text": [
      "502 ms ± 16.9 ms per loop (mean ± std. dev. of 7 runs, 1 loop each)\n"
     ]
    }
   ],
   "source": [
    "%timeit  kMcabral._KMcabral(kmc.phi,kmc.maxDlay,kmc.dlayStep,kmc.fs,kmc.dt,kmc.kS,kmc.omega)"
   ]
  },
  {
   "cell_type": "code",
   "execution_count": 62,
   "metadata": {},
   "outputs": [
    {
     "data": {
      "text/plain": [
       "0.9444444444444444"
      ]
     },
     "execution_count": 62,
     "metadata": {},
     "output_type": "execute_result"
    }
   ],
   "source": [
    "0.34 * 500 * 20 / 3600"
   ]
  },
  {
   "cell_type": "markdown",
   "metadata": {},
   "source": [
    "# Run Evolution"
   ]
  },
  {
   "cell_type": "code",
   "execution_count": 68,
   "metadata": {},
   "outputs": [
    {
     "ename": "AttributeError",
     "evalue": "'kMcabral' object has no attribute 'get_logs'",
     "output_type": "error",
     "traceback": [
      "\u001b[0;31m---------------------------------------------------------------------------\u001b[0m",
      "\u001b[0;31mAttributeError\u001b[0m                            Traceback (most recent call last)",
      "\u001b[0;32m<ipython-input-68-aeefa20e06a5>\u001b[0m in \u001b[0;36m<module>\u001b[0;34m()\u001b[0m\n\u001b[1;32m     22\u001b[0m \u001b[0;31m# get parameter for the logging variable in problem class\u001b[0m\u001b[0;34m\u001b[0m\u001b[0;34m\u001b[0m\u001b[0m\n\u001b[1;32m     23\u001b[0m \u001b[0mprobE\u001b[0m    \u001b[0;34m=\u001b[0m \u001b[0mpopE\u001b[0m\u001b[0;34m.\u001b[0m\u001b[0mproblem\u001b[0m\u001b[0;34m.\u001b[0m\u001b[0mextract\u001b[0m\u001b[0;34m(\u001b[0m\u001b[0mkMcabral\u001b[0m\u001b[0;34m)\u001b[0m\u001b[0;34m\u001b[0m\u001b[0m\n\u001b[0;32m---> 24\u001b[0;31m \u001b[0mlogged\u001b[0m   \u001b[0;34m=\u001b[0m \u001b[0mprobE\u001b[0m\u001b[0;34m.\u001b[0m\u001b[0mget_logs\u001b[0m\u001b[0;34m(\u001b[0m\u001b[0;34m)\u001b[0m\u001b[0;34m\u001b[0m\u001b[0m\n\u001b[0m\u001b[1;32m     25\u001b[0m \u001b[0mfitness\u001b[0m  \u001b[0;34m=\u001b[0m \u001b[0mlogged\u001b[0m\u001b[0;34m[\u001b[0m\u001b[0;34m:\u001b[0m\u001b[0;34m,\u001b[0m\u001b[0;36m0\u001b[0m\u001b[0;34m]\u001b[0m\u001b[0;34m\u001b[0m\u001b[0m\n\u001b[1;32m     26\u001b[0m \u001b[0mvelocity\u001b[0m \u001b[0;34m=\u001b[0m \u001b[0mlogged\u001b[0m\u001b[0;34m[\u001b[0m\u001b[0;34m:\u001b[0m\u001b[0;34m,\u001b[0m\u001b[0;36m1\u001b[0m\u001b[0;34m]\u001b[0m\u001b[0;34m\u001b[0m\u001b[0m\n",
      "\u001b[0;31mAttributeError\u001b[0m: 'kMcabral' object has no attribute 'get_logs'"
     ]
    }
   ],
   "source": [
    "generations = 500\n",
    "sizePop     = 25\n",
    "# algorithm\n",
    "algo   = po.algorithm(po.de1220(gen=generations,\n",
    "                                allowed_variants=np.arange(1,19),\n",
    "                                variant_adptv=1,\n",
    "                                ftol=1e-4,\n",
    "                                xtol=1e-4))\n",
    "\n",
    "\n",
    "algo.set_verbosity(1)\n",
    "# problem\n",
    "prob   = po.problem(kMcabral())\n",
    "# population\n",
    "pop    = po.population(prob=prob, size=sizePop)\n",
    "# evolution\n",
    "popE    = algo.evolve(pop)\n",
    "# Results\n",
    "loguda = algo.extract(po.de1220).get_log()\n",
    "# get best fitness per generation\n",
    "best = np.array([loguda[i][2] for i in range(len(loguda))])\n",
    "# get parameter for the logging variable in problem class\n",
    "probE    = popE.problem.extract(kMcabral)\n",
    "logged   = probE.get_mylogs()\n",
    "fitness  = logged[:,0]\n",
    "velocity = logged[:,1]\n",
    "kG       = logged[:,2]\n",
    "orderG   = logged[:,2]\n",
    "orderGsd = logged[:,2]\n",
    "#save file"
   ]
  },
  {
   "cell_type": "code",
   "execution_count": 73,
   "metadata": {},
   "outputs": [
    {
     "name": "stdout",
     "output_type": "stream",
     "text": [
      "Stored 'kG' (ndarray)\n",
      "Stored 'velocity' (ndarray)\n",
      "Stored 'fitness' (ndarray)\n"
     ]
    }
   ],
   "source": [
    "%store kG\n",
    "%store velocity\n",
    "%store fitness"
   ]
  },
  {
   "cell_type": "markdown",
   "metadata": {},
   "source": [
    "# Profiling memory usage"
   ]
  },
  {
   "cell_type": "code",
   "execution_count": 44,
   "metadata": {},
   "outputs": [
    {
     "name": "stdout",
     "output_type": "stream",
     "text": [
      "Writing test3Memot.py\n"
     ]
    }
   ],
   "source": [
    "%%file test3Memot.py\n",
    "import numpy as np\n",
    "\n",
    "def KMcabral(phi,maxDlay,dlayStep,fs,dt,kS,omga):\n",
    "    C       = phi.shape[0]\n",
    "    #nodes   = range(C)        \n",
    "    pi2     = np.float32(2 * np.pi)\n",
    "    phidt   = np.zeros(C, dtype=np.float32)\n",
    "    difKsin = np.zeros((C,C), dtype=np.float32)\n",
    "    phiDif  = np.zeros((C,C), dtype=np.float32)\n",
    "    for n in range(maxDlay, phi.shape[1]-1):\n",
    "        idD     = n - dlayStep\n",
    "        phi_r = phi.ravel()\n",
    "        for s in range(C):\n",
    "            #phiDif       = phi[nodes, idD[:,s]] - phi[s, n]\n",
    "            #phiDif       = phi_r[idD[:,s]] - phi[s,n]\n",
    "            phiDif[:,s]       = phi_r[idD[:,s]] - phi[s,n]\n",
    "\n",
    "            #difKsin[:,s] = kS[:,s] * np.sin(phiDif)\n",
    "\n",
    "        difKsin = kS * np.sin(phiDif)\n",
    "\n",
    "        phidt    = np.sum(difKsin, axis=0) \n",
    "        phi_n = phi[:,n] + dt * (phidt+omga)\n",
    "        phi[:,n+1]  = np.remainder(phi_n, pi2)\n",
    "\n",
    "    phi     = phi[:,maxDlay+1:]\n",
    "    # simple downsampling (there may be aliasing)\n",
    "    phi = phi[:,::np.int64(1./(fs*dt))]\n",
    "    return 1.0 * np.exp(1j* phi)"
   ]
  },
  {
   "cell_type": "code",
   "execution_count": 56,
   "metadata": {},
   "outputs": [
    {
     "name": "stdout",
     "output_type": "stream",
     "text": [
      "\n"
     ]
    }
   ],
   "source": [
    "from test3Memot import KMcabral\n",
    "import numpy as np\n",
    "%mprun -f KMcabral KMcabral(kmc.phi,kmc.maxDlay,kmc.dlayStep,kmc.fs,kmc.dt,kmc.kS,kmc.omega)"
   ]
  },
  {
   "cell_type": "code",
   "execution_count": 55,
   "metadata": {},
   "outputs": [
    {
     "name": "stdout",
     "output_type": "stream",
     "text": [
      "peak memory: 256.03 MiB, increment: 0.57 MiB\n"
     ]
    }
   ],
   "source": [
    "from test3Memot import KMcabral\n",
    "\n",
    "%memit KMcabral(kmc.phi,kmc.maxDlay,kmc.dlayStep,kmc.fs,kmc.dt,kmc.kS,kmc.omega)"
   ]
  }
 ],
 "metadata": {
  "kernelspec": {
   "display_name": "Python 3",
   "language": "python",
   "name": "python3"
  },
  "language_info": {
   "codemirror_mode": {
    "name": "ipython",
    "version": 3
   },
   "file_extension": ".py",
   "mimetype": "text/x-python",
   "name": "python",
   "nbconvert_exporter": "python",
   "pygments_lexer": "ipython3",
   "version": "3.6.3"
  }
 },
 "nbformat": 4,
 "nbformat_minor": 2
}
