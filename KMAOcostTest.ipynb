{
 "cells": [
  {
   "cell_type": "code",
   "execution_count": 1,
   "metadata": {
    "collapsed": true
   },
   "outputs": [],
   "source": [
    "%matplotlib tk\n",
    "%load_ext memory_profiler\n",
    "%load_ext line_profiler"
   ]
  },
  {
   "cell_type": "code",
   "execution_count": 2,
   "metadata": {
    "collapsed": true
   },
   "outputs": [],
   "source": [
    "import numpy as np\n",
    "import scipy.io as sio\n",
    "import time\n",
    "#from numba import jit, prange, int32\n",
    "import numba\n",
    "import scipy.signal as sg\n",
    "from scipy.stats import pearsonr\n",
    "import matplotlib.pyplot as pl\n",
    "import pygmo as po\n",
    "import seaborn as sns \n",
    "import pandas as pd \n",
    "import datetime\n",
    "from mpl_toolkits.mplot3d import Axes3D"
   ]
  },
  {
   "cell_type": "code",
   "execution_count": null,
   "metadata": {
    "collapsed": true
   },
   "outputs": [],
   "source": [
    "@jit(nopython=True,cache=True)\n",
    "def KMAOcommu(phi,r,maxDlay,dlayStep,eta,dlt,fs,dt):\n",
    "    commuOff= np.arange(0,phi.shape[0]) * phi.shape[1]\n",
    "    pi2     = 2 * np.pi\n",
    "    eta2    = 0.5 * eta\n",
    "    kSr     = np.empty((C))\n",
    "    phiDif  = np.empty((C))\n",
    "    sumRsp  = np.empty((C))\n",
    "    sumPHIsp= np.empty((C))\n",
    "    for n in xrange(maxDlay,phi.shape[1]-1):\n",
    "        rsum1       = -dlt * r[:,n]\n",
    "        rpro1       = eta2 * ( 1 - r[:,n]**2 )\n",
    "        phipro1     = eta2 * (r[:,n]**2 + 1) / r[:,n]\n",
    "        for s in range(0,phi.shape[0]):\n",
    "            idD         = n - dlayStep[:,s] + commuOff\n",
    "            phiDif      = phi.ravel()[idD] - phi[s,n]\n",
    "            kSr         = kS[:,s] * r.ravel()[idD]\n",
    "            sumRsp[s]   = np.sum( kSr * np.cos( phiDif ))\n",
    "            sumPHIsp[s] = np.sum( kSr * np.sin( phiDif ))\n",
    "        rdt         = rsum1 + rpro1 * sumRsp\n",
    "        phidt       = omga + phipro1 * sumPHIsp\n",
    "        # add differntial step\n",
    "        r[:,n+1]    = r[:,n] + dt*rdt\n",
    "        phi[:,n+1]  = np.remainder(phi[:,n] + dt*phidt, pi2)\n",
    "    r       = r[:,maxDlay+1:]     # remove history samples used in the begining\n",
    "    phi     = phi[:,maxDlay+1:]\n",
    "    if fs:   # simple downsampling (there may be aliasing)\n",
    "        r   = r[:,::int(1/(fs*dt))] \n",
    "        phi = phi[:,::int(1/(fs*dt))]\n",
    "    return r * np.exp(1j* phi)\n",
    "\n",
    "def filterBands(z,fBands,fs,trans):\n",
    "    nyq         = fs / 2.0\n",
    "    envCorrs    = np.empty((z.shape[0],z.shape[0],fBands.shape[0]))\n",
    "    #ff, axf     = pl.subplots(2, 6)\n",
    "    for ix, freq in enumerate(fBands):\n",
    "        # Filter frequency bands\n",
    "        passCut = freq / nyq\n",
    "        stopCut = [(freq[0] - trans) / nyq, (freq[1] + trans) / nyq]\n",
    "        coeFil  = sg.iirdesign(passCut, stopCut, gpass, gstop, analog=False, ftype='ellip', output='sos')\n",
    "        zFilt   = sg.sosfiltfilt(coeFil,np.imag(z),axis=1,padtype='odd')\n",
    "        #import pdb; pdb.set_trace()\n",
    "        zEnv    = np.abs(sg.hilbert(zFilt, axis=1))\n",
    "        # Correlation discarding warmup time\n",
    "        envCo = np.corrcoef(zEnv[:,int(tMin*fs):], rowvar=True)\n",
    "        np.fill_diagonal(envCo,0)\n",
    "        envCorrs[:,:,ix] = envCo\n",
    "        #plotFilterResp(nyq,coeFil,axf,ix)\n",
    "    #pl.show()\n",
    "    return envCorrs\n",
    "\n",
    "def fitEmpi2sim(simu,empi):\n",
    "    if simu.shape != empi.shape:\n",
    "        raise ValueError('Empitrical and functional connectivity have different shape')\n",
    "        \n",
    "    C   = simu.shape[0]\n",
    "    simuProfile = []\n",
    "    empiProfile = []\n",
    "    for ix in range(simu.shape[2]):\n",
    "        simu1        = simu[...,ix]\n",
    "        empi1        = empi[...,ix]\n",
    "        simuProfile  = np.append(simuProfile, simu1[np.triu_indices(C,1)])\n",
    "        empiProfile  = np.append(empiProfile, empi1[np.triu_indices(C,1)])\n",
    "    ccoef, pval = pearsonr(simuProfile, empiProfile)\n",
    "    return -1.0 * ccoef"
   ]
  },
  {
   "cell_type": "code",
   "execution_count": null,
   "metadata": {
    "collapsed": true
   },
   "outputs": [],
   "source": [
    "fr      = 40.0                  # frequency of oscillatros [Hz]\n",
    "dlt     = 1.0                   # delta parameter (spread) for Lorentzian distribution of frequencies.\n",
    "omga    = fr * 2*np.pi          # Omega parameter (mean) for lorentzian distribution of frequencies.\n",
    "tMax    = 5.0                   # maximum integration time\n",
    "tMin    = 1.0                   # remove the previous simulation time. Only take satable time \n",
    "dt      = 1e-4                  # integration time step   \n",
    "vel     = 7.6                   # transmision velocity of neural impulses [meter/second]\n",
    "kG      = 25*90.0               # global coupling, couplilng between commiunities.\n",
    "kL      = 150.0                 # local coupling, coupling inside the commiunities.\n",
    "gpass   = 0.0025                # ripple amplitude gain in dB in the pass band\n",
    "gstop   = 40.0                  # ripple amplitude gain in dB in the stop band\n",
    "envFil  = 0.5                   # cut-off frequency to filter the envelop of the frequency bads\n",
    "trans   = 1.0                   # width [Hz] of transition interval between stop and pass bands\n",
    "fs      = 500.0                 # sampling frequency [Hz] of the genrated signal\n",
    "nyq     = fs / 2                # Nyquist frequency \n",
    "pathdata    = '/home/oscar/Documents/MATLAB/Kuramoto/Cabral/' # path to data\n",
    "nameAnato   = 'AAL_matrices.mat'         # anatomical network\n",
    "nameEmpi    = 'FC_Profile_Jul13.mat'     # Empirical Functional connectivity\n",
    "#fBands  = np.array([[2.0,    6.0], # frequency bands for the band-pass filter\n",
    "#                    [4.0,    8.0],\n",
    "#                    [6.0,    10.5],\n",
    "#                    [8.0,    13.0],\n",
    "#                    [10.5,   21.5],\n",
    "#                    [13.0,   30.0],\n",
    "#                    [21.5,   39.0],\n",
    "#                    [30.0,   48.0],\n",
    "#                    [39.0,   66.0],\n",
    "#                    [52.0,   80.0]])\n"
   ]
  },
  {
   "cell_type": "code",
   "execution_count": null,
   "metadata": {
    "collapsed": true
   },
   "outputs": [],
   "source": [
    "# load anatomical data\n",
    "loaddata    = pathdata + nameAnato\n",
    "anato       = sio.loadmat(loaddata)     # C: structural connectivity, D: distance between areas.\n",
    "D           = anato['D']                # Distances beween nodes\n",
    "kS          = anato['C']                # Strucural/anatomical network  \n",
    "C           = np.shape(D)[1]            # number of nodes/brain areas\n",
    "eta         = 1.0 / C;                  # proportion of oscillator per community\n",
    "# load empirical data\n",
    "loaddata    = pathdata + nameEmpi\n",
    "empiri      = sio.loadmat(loaddata)     # fBands: frequency bands, FCf:functional connectivity\n",
    "fBands      = empiri['freqs']           # bandpass filter frequency bands\n",
    "empiFC      = empiri['FCf']             # empiprical functional connectivity\n",
    "empiFC      = np.moveaxis(empiFC,0,-1)  # re-arange the axes to the same manner as simulated data\n",
    "# Delays\n",
    "dlay        = D / (1000.0 * vel)                # [seconds] correct from mm to m\n",
    "dlayStep    = np.around(dlay / dt).astype(int)  # delay on steps backwards to be done\n",
    "maxDlay     = int(np.max(dlayStep))             # number of time steps for the longest delay\n",
    "# Coupling matrix\n",
    "kS          = kS / np.mean(kS[~np.identity(C,dtype=bool)])   # normalize structural network to a mean = 1\n",
    "kS          = kS * kG / C               # Global coupling\n",
    "np.fill_diagonal(kS,kL)                 # Local coupling\n",
    "# node's variables\n",
    "r           = np.empty((C, int(tMax/dt + maxDlay))) # node phase parameter [C, Nsamples to integrate]\n",
    "phi         = np.empty((C, int(tMax/dt + maxDlay))) # node phase parameter [C, Nsamples to integrate]\n",
    "# initial conditions as history for the time delays\n",
    "omegaT              = omga*np.arange(0,maxDlay*dt+dt,dt)\n",
    "r[:,0:maxDlay+1]    = 0.1 * np.ones((C,maxDlay+1))\n",
    "phi[:,0:maxDlay+1]  = np.tile(np.remainder(omegaT,2*np.pi),(C,1))\n",
    "# Design filter for envelops\n",
    "passCut     = envFil / nyq\n",
    "stopCut     = (envFil + trans) / nyq\n",
    "coeFilEn    = sg.iirdesign(passCut, stopCut, gpass, gstop, analog=False, ftype='ellip', output='sos') "
   ]
  },
  {
   "cell_type": "code",
   "execution_count": 3,
   "metadata": {
    "collapsed": true
   },
   "outputs": [],
   "source": [
    "class kaoDynamicsFixKl():\n",
    "    def __init__(self):\n",
    "        self.tMax     = 1.0\n",
    "        self.tMin     = 0.5\n",
    "        self.fs       = 500.0\n",
    "        self.omega    = 40.0\n",
    "        self.dlt      = 1.0\n",
    "        self.pathData = '/home/oscar/Documents/MATLAB/Kuramoto/Cabral/'\n",
    "        self.nameDTI  = 'AAL_matrices.mat'         # anatomical network\n",
    "        self.nameFC   = 'FC_Profile_Jul13.mat'     # Empirical Functional connectivity\n",
    "        self.dt       = 1e-4\n",
    "        self._getEmpiricalData()\n",
    "        self.dim      = 3\n",
    "        self.log      = np.empty((0,self.dim+1))\n",
    "        self.log2     = []\n",
    "        self.counter  = 0\n",
    "        \n",
    "    def get_name(self):\n",
    "        return \"kaoDynamicsFixKl\"\n",
    "    \n",
    "    def get_logs(self):\n",
    "        return self.log\n",
    "    \n",
    "    def get_logs2(self):\n",
    "        return self.log2\n",
    "    \n",
    "    def save_logs(self,log):\n",
    "        self.log2.append(log)\n",
    "          \n",
    "    def _getEmpiricalData(self): \n",
    "        # load anatomical data\n",
    "        loaddata    = self.pathData + self.nameDTI\n",
    "        dti         = sio.loadmat(loaddata)     # C: structural connectivity, D: distance between areas.\n",
    "        self.D      = dti['D']                  # Distances beween nodes\n",
    "        anato       = dti['C']                  # Strucural/anatomical network\n",
    "        self.C      = np.shape(self.D)[1]       # number of nodes/brain areas\n",
    "        self.eta    = 1.0 / self.C;             # proportion of oscillator per community\n",
    "        self.anato  = anato / np.mean(anato[~np.identity(self.C,dtype=bool)])   # normalize structural network to a mean = 1\n",
    "        # load functional data\n",
    "        loaddata    = self.pathData + self.nameFC\n",
    "        empiri      = sio.loadmat(loaddata)     # fBands: frequency bands, FCf:functional connectivity\n",
    "        self.fBands = empiri['freqs']           # bandpass filter frequency bands\n",
    "        empiFC      = empiri['FCf']             # empiprical functional connectivity\n",
    "        self.empiFC = np.moveaxis(empiFC,0,-1)  # re-arange the axes to the same manner as simulated data\n",
    "    \n",
    "    def fitness(self,x):\n",
    "        vel     = x[0]\n",
    "        kL      = x[1]\n",
    "        kG      = x[2]\n",
    "        kS      = self.getAnatoCoupling(kG,kL)\n",
    "        dlayStep, maxDlay = self.getDelays(vel)\n",
    "        r, phi  = self._doNodeContainers(maxDlay)\n",
    "        z       = kaoDynamicsFixKl._KMAOcommu(phi,r,maxDlay,dlayStep,self.eta,self.dlt,self.fs,self.dt,kS,self.omega)\n",
    "        fit     = self._fitFilterBands(z)\n",
    "        self.log= np.vstack((self.log,np.array([fit,vel,kL,kG])))\n",
    "        self.save_logs(np.array([fit,vel,kL,kG]))\n",
    "        self.counter += 1\n",
    "        #print(self.log)\n",
    "        return fit\n",
    "    \n",
    "    def getAnatoCoupling(self,kG,kL):\n",
    "        \"\"\"Get anatomical network with couplings\"\"\"\n",
    "        kS          = self.anato * kG / self.C      # Global coupling\n",
    "        np.fill_diagonal(kS,kL)              # Local coupling\n",
    "        return kS\n",
    "    \n",
    "    def getDelays(self,vel):\n",
    "        \"\"\"Return maximum delay and delay steps in samples\"\"\"\n",
    "        dlay        = self.D / (1000.0 * vel)                # [seconds] correct from mm to m\n",
    "        dlayStep    = np.around(dlay / self.dt).astype(int)  # delay on steps backwards to be done\n",
    "        maxDlay     = int(np.max(dlayStep))                  # number of time steps for the longest delay\n",
    "        return dlayStep, maxDlay\n",
    "    \n",
    "    def get_bounds(self):\n",
    "        \"\"\"Boundaries on: velocity, Kl, Kg\"\"\"\n",
    "        return ([1, 1, 1],[25, 1000, 4000])\n",
    "    \n",
    "    def _fitFilterBands(self,z):\n",
    "        nyq   = self.fs / 2.0\n",
    "        trans = 1.0\n",
    "        C     = z.shape[0]\n",
    "        simuProfile = []\n",
    "        empiProfile = []\n",
    "        for ix, freq in enumerate(self.fBands):\n",
    "            # Filter frequency bands\n",
    "            passCut = freq / nyq\n",
    "            stopCut = [(freq[0] - trans) / nyq, (freq[1] + trans) / nyq]\n",
    "            coeFil  = sg.iirdesign(passCut, stopCut, gpass=0.0025, gstop=40.0, analog=False, ftype='ellip', output='sos')\n",
    "            zFilt   = sg.sosfiltfilt(coeFil, np.imag(z), axis=1, padtype='odd')\n",
    "            zEnv    = np.abs(sg.hilbert(zFilt, axis=1))\n",
    "            # Correlation discarding warmup time\n",
    "            envCo = np.corrcoef(zEnv[:,int(self.tMin*self.fs):], rowvar=True)\n",
    "            simuProfile  = np.append(simuProfile, envCo[np.triu_indices(C,1)])\n",
    "            # Profile Empirical data\n",
    "            empi1        = self.empiFC[...,ix]\n",
    "            empiProfile  = np.append(empiProfile, empi1[np.triu_indices(C,1)])\n",
    "        ccoef, pval = pearsonr(simuProfile, empiProfile)\n",
    "        return np.array([-1 * ccoef])\n",
    "    \n",
    "    @jit(nopython=True,cache=True,nogil=True,parallel=False)\n",
    "    def _KMAOcommu(phi,r,maxDlay,dlayStep,eta,dlt,fs,dt,kS,omga):\n",
    "        C       = phi.shape[0]\n",
    "        commuOff = np.arange(0,C) * phi.shape[1]\n",
    "        pi2     = 2 * np.pi\n",
    "        eta2    = 0.5 * eta\n",
    "        kSr     = np.empty((C))\n",
    "        phiDif  = np.empty((C))\n",
    "        sumRsp  = np.empty((C))\n",
    "        sumPHIsp= np.empty((C))\n",
    "        for n in range(maxDlay,phi.shape[1]-1):\n",
    "            rsum1       = -dlt * r[:,n]\n",
    "            rpro1       = eta2 * ( 1 - r[:,n]**2 )\n",
    "            phipro1     = eta2 * (r[:,n]**2 + 1) / r[:,n]\n",
    "            for s in range(0,phi.shape[0]):\n",
    "                idD         = n - dlayStep[:,s] + commuOff\n",
    "                phiDif      = phi.ravel()[idD] - phi[s,n]\n",
    "                kSr         = kS[:,s] * r.ravel()[idD]\n",
    "                sumRsp[s]   = np.sum( kSr * np.cos( phiDif ))\n",
    "                sumPHIsp[s] = np.sum( kSr * np.sin( phiDif ))\n",
    "            rdt         = rsum1 + rpro1 * sumRsp\n",
    "            phidt       = omga + phipro1 * sumPHIsp\n",
    "            # add differntial step\n",
    "            r[:,n+1]    = r[:,n] + dt*rdt\n",
    "            phi[:,n+1]  = np.remainder(phi[:,n] + dt*phidt, pi2)\n",
    "        r       = r[:,maxDlay+1:]     # remove history samples used in the begining\n",
    "        phi     = phi[:,maxDlay+1:]\n",
    "        # simple downsampling (there may be aliasing)\n",
    "        r   = r[:,::int(1/(fs*dt))] \n",
    "        phi = phi[:,::int(1/(fs*dt))]\n",
    "        return r * np.exp(1j* phi)\n",
    "    \n",
    "    def _doNodeContainers(self,maxDlay):      \n",
    "        # node's variables\n",
    "        #import pdb; pdb.set_trace()\n",
    "        r           = np.empty((self.C, int(self.tMax/self.dt + maxDlay))) # node phase parameter [C, Nsamples to integrate]\n",
    "        phi         = np.empty((self.C, int(self.tMax/self.dt + maxDlay))) # node phase parameter [C, Nsamples to integrate]\n",
    "        # initial conditions as history for the time delays\n",
    "        omegaT      = self.omega * np.linspace(0,maxDlay*self.dt+self.dt,maxDlay+1)\n",
    "        r[:,0:maxDlay+1]    = 0.3 * np.ones((self.C,maxDlay+1))\n",
    "        phi[:,0:maxDlay+1]  = np.tile(np.remainder(omegaT,2*np.pi),(self.C,1))\n",
    "        return r, phi"
   ]
  },
  {
   "cell_type": "code",
   "execution_count": null,
   "metadata": {
    "collapsed": true
   },
   "outputs": [],
   "source": [
    "\n",
    "archi  = po.archipelago()\n",
    "effe   = np.array([0.3,0.3,0.3,0.5,0.5,0.5,0.9,0.9,0.9])\n",
    "cross  = np.array([0.3,0.5,0.9,0.3,0.5,0.9,0.3,0.5,0,9])\n",
    "logsIsl= []\n",
    "algos  = []\n",
    "islands= []\n",
    "for ix in range(0,2):\n",
    "    effei  = effe[ix]\n",
    "    crossi = cross[ix]\n",
    "    algo = po.algorithm(po.de(gen = 5, F=effei, CR=crossi))\n",
    "    algo.set_verbosity(1)\n",
    "    algos.append(algo)    \n",
    "    isl = po.island(algo = algo, prob=prob, size=5,seed=22)\n",
    "    isl.evolve()\n",
    "    logsIsl.append(isl.get_algorithm().extract(po.de).get_log())\n",
    "    islands.append(isl)\n",
    "    archi2.push_back(algo=algo, prob=prob, size=5, seed=22)\n",
    "archi2.evolve()\n",
    "#archiLog = archi2.get_algorithm().extract(po.de).get_log()\n"
   ]
  },
  {
   "cell_type": "code",
   "execution_count": null,
   "metadata": {
    "collapsed": true
   },
   "outputs": [],
   "source": [
    "generations = 5\n",
    "seed = 22\n",
    "x = [np.array([10,10,100]),np.array([20,20,200]),np.array([5,5,50]),\n",
    "     np.array([12,220,227]),np.array([8,150,1500])]\n",
    "\n",
    "# algorithm\n",
    "algo   = po.algorithm(po.de(gen=generations,seed=seed))\n",
    "algo.set_verbosity(1)\n",
    "algo.set_seed(seed)\n",
    "sizePop= 5\n",
    "# problem\n",
    "prob   = po.problem(kaoDynamicsFixKl())\n",
    "# population\n",
    "pop    = po.population(prob=prob)\n",
    "for chromo in x:\n",
    "    pop.push_back(chromo)\n",
    "# islands\n",
    "isl1 = po.island(algo=algo, pop=pop)\n",
    "algoIs = isl1.get_algorithm()\n",
    "# evolution\n",
    "isl1E = isl1.evolve()\n",
    "#popE = algo.evolve(pop)"
   ]
  },
  {
   "cell_type": "code",
   "execution_count": null,
   "metadata": {
    "collapsed": true
   },
   "outputs": [],
   "source": [
    "[method_name for method_name in dir(pro) if callable(getattr(pro, method_name))]"
   ]
  },
  {
   "cell_type": "code",
   "execution_count": 21,
   "metadata": {},
   "outputs": [
    {
     "name": "stderr",
     "output_type": "stream",
     "text": [
      "/home/oscar/anaconda2/envs/ipy36/lib/python3.6/site-packages/numba/decorators.py:146: RuntimeWarning: Caching is not available when the 'parallel' target is in use. Caching is now being disabled to allow execution to continue.\n",
      "  warnings.warn(msg, RuntimeWarning)\n"
     ]
    }
   ],
   "source": [
    "#from numba import float64, int64, complex128, prange\n",
    "\n",
    "class Testkao():\n",
    "    def __init__(self):\n",
    "        self.tMax     = np.float32(15.0)\n",
    "        self.tMin     = np.float32(1.0)\n",
    "        self.fs       = np.float32(500.0)\n",
    "        self.omega    = np.float32(2*np.pi * 40.0)\n",
    "        self.dlt      = np.float32(1.0)\n",
    "        self.pathData = '/home/oscar/Documents/MATLAB/Kuramoto/Cabral/'\n",
    "        self.nameDTI  = 'AAL_matrices.mat'         # anatomical network\n",
    "        self.nameFC   = 'Real_Band_FC.mat'     # Empirical Functional connectivity\n",
    "        self.dt       = np.float32(1e-4)\n",
    "        \n",
    "        self.N        = np.int32(100000)\n",
    "        \n",
    "        self._getEmpiricalData()\n",
    "        self._desingFilterBands()\n",
    "        self.log      = np.empty((0,6))\n",
    "        self.doSinCosIx()\n",
    "        \n",
    "    def get_mylogs(self):\n",
    "        return self.log\n",
    "    \n",
    "    def get_name(self):\n",
    "        return \"kaoDynamicsFixKl\"\n",
    "    \n",
    "    def doSinCosIx(self):\n",
    "        d_pi          = np.linspace(-2 * np.pi, 2 * np.pi, self.N)\n",
    "        self.d_sin = np.float32(np.sin(d_pi))\n",
    "        self.d_cos = np.float32(np.cos(d_pi))\n",
    "        \n",
    "          \n",
    "    def _getEmpiricalData(self): \n",
    "        # load anatomical data\n",
    "        loaddata    = self.pathData + self.nameDTI\n",
    "        dti         = sio.loadmat(loaddata)     # C: structural connectivity, D: distance between areas.\n",
    "        self.D      = dti['D']                  # Distances beween nodes\n",
    "        anato       = dti['C']                  # Strucural/anatomical network\n",
    "        self.C      = np.shape(self.D)[1]       # number of nodes/brain areas\n",
    "        self.eta    = np.float32(1.0 / self.C)             # proportion of oscillator per community\n",
    "        self.anato  = anato / np.mean(anato[~np.identity(self.C,dtype=bool)])   # normalize structural network to a mean = 1\n",
    "        # load functional data\n",
    "        loaddata    = self.pathData + self.nameFC\n",
    "        empiri      = sio.loadmat(loaddata)              # fBands: frequency bands, FCf:functional connectivity\n",
    "        self.fBands = empiri['freq_bands'].astype(np.float32) # bandpass filter frequency bands\n",
    "        empiFC      = empiri['FC_Env_mean']              # empiprical functional connectivity\n",
    "        empiFC = np.moveaxis(empiFC,0,-1)                # re-arange the axes to the same manner as simulated data\n",
    "        self.empiProfile = []\n",
    "        for ix in range(0,self.fBands.shape[0]):         # Profile Empirical data\n",
    "            empi1            = empiFC[...,ix]\n",
    "            self.empiProfile = np.append(self.empiProfile, empi1[np.triu_indices(self.C,1)])\n",
    "    \n",
    "    def _desingFilterBands(self):\n",
    "        nyq   = self.fs / 2.0\n",
    "        trans = 2.0\n",
    "        self.coeFil = []\n",
    "        for freq in self.fBands:\n",
    "            # Filter frequency bands\n",
    "            passCut = freq / nyq\n",
    "            stopCut = [(freq[0] - trans) / nyq, (freq[1] + trans) / nyq]\n",
    "            self.coeFil.append(sg.iirdesign(passCut, stopCut, gpass=0.0025, gstop=30.0,\n",
    "                                            analog=False, ftype='cheby2', output='sos'))\n",
    "        # Filter envelops\n",
    "        self.coeFilEnv = sg.iirdesign(0.5 / nyq, (0.5+trans)/nyq , gpass=0.0025, gstop=30.0,\n",
    "                                            analog=False, ftype='cheby2', output='sos')\n",
    "    \n",
    "    def _doKuramotoOrder(self, z):\n",
    "        # global order\n",
    "        orderG  = np.mean(np.abs( np.mean( z[:,int(self.tMin*self.fs):], axis = 0 )))\n",
    "        # local order\n",
    "        orderL  = np.mean(np.mean( np.abs(z[:,int(self.tMin*self.fs):]), axis = 0 ))\n",
    "        return orderG, orderL     \n",
    "\n",
    "    def fitness4(self,x):\n",
    "        vel     = x[0]\n",
    "        kL      = x[1]\n",
    "        kG      = x[2]\n",
    "        kS      = self.getAnatoCoupling(kG,kL)\n",
    "        dlayStep, maxDlay = self.getDelays(vel)\n",
    "        r, phi  = self._doNodeContainers(maxDlay)\n",
    "        #dlayIdx = self.doIndexDelay(r,dlayStep)\n",
    "        #d_pi          = np.linspace(-2 * np.pi, 2 * np.pi, self.N)\n",
    "        z    = Testkao._KMAOcommu4(phi,r,maxDlay,dlayStep,self.eta,self.dlt,self.fs,self.dt,kS,self.omega,self.d_sin,self.d_cos)\n",
    "        self.z = z\n",
    "        fit, self.envCo = self._fitFilterBands(z)\n",
    "        orderG, orderL = self._doKuramotoOrder(z)\n",
    "        self.log= np.vstack((self.log, np.array([fit,vel,kL,kG,orderL,orderG])))\n",
    "        return np.array([fit])    \n",
    "    \n",
    "    def fitness3(self,x):\n",
    "        vel     = x[0]\n",
    "        kL      = x[1]\n",
    "        kG      = x[2]\n",
    "        kS      = self.getAnatoCoupling(kG,kL)\n",
    "        dlayStep, maxDlay = self.getDelays(vel)\n",
    "        r, phi  = self._doNodeContainers(maxDlay)\n",
    "        dlayIdx = self.doIndexDelay(r,dlayStep)\n",
    "        d_pi          = np.linspace(-2 * np.pi, 2 * np.pi, self.N)\n",
    "        z    = Testkao._KMAOcommu3(phi,r,maxDlay,dlayIdx,self.eta,self.dlt,self.fs,self.dt,kS,self.omega,self.d_sin,self.d_cos,d_pi)\n",
    "        self.z = z\n",
    "        fit, self.envCo = self._fitFilterBands(z)\n",
    "        orderG, orderL = self._doKuramotoOrder(z)\n",
    "        self.log= np.vstack((self.log, np.array([fit,vel,kL,kG,orderL,orderG])))\n",
    "        return np.array([fit])  \n",
    "    \n",
    "    def fitness2(self,x):\n",
    "        vel     = x[0]\n",
    "        kL      = x[1]\n",
    "        kG      = x[2]\n",
    "        kS      = self.getAnatoCoupling(kG,kL)\n",
    "        dlayStep, maxDlay = self.getDelays(vel)\n",
    "        r, phi  = self._doNodeContainers(maxDlay)\n",
    "        dlayIdx = self.doIndexDelay(r,dlayStep)\n",
    "        z    = Testkao._KMAOcommu2(phi,r,maxDlay,dlayIdx,self.eta,self.dlt,self.fs,self.dt,kS,self.omega)\n",
    "        self.z = z\n",
    "        fit, self.envCo = self._fitFilterBands(z)\n",
    "        orderG, orderL = self._doKuramotoOrder(z)\n",
    "        self.log= np.vstack((self.log, np.array([fit,vel,kL,kG,orderL,orderG])))\n",
    "        return np.array([fit])\n",
    "    \n",
    "    def fitness(self,x):\n",
    "        vel     = x[0]\n",
    "        kL      = x[1]\n",
    "        kG      = x[2]\n",
    "        kS      = self.getAnatoCoupling(kG,kL)\n",
    "        dlayStep, maxDlay = self.getDelays(vel)\n",
    "        r, phi  = self._doNodeContainers(maxDlay)\n",
    "        dlayIdx = self.doIndexDelay2(r,dlayStep)\n",
    "        z    = Testkao._KMAOcommu(phi,r,maxDlay,dlayIdx,self.eta,self.dlt,self.fs,self.dt,kS,self.omega)\n",
    "        self.z = z\n",
    "        fit, self.envCo = self._fitFilterBands(z)\n",
    "        orderG, orderL = self._doKuramotoOrder(z)\n",
    "        self.log= np.vstack((self.log, np.array([fit,vel,kL,kG,orderL,orderG])))\n",
    "        return np.array([fit])\n",
    "      \n",
    "    \n",
    "    def doIndexDelay(self,r,dlayStep):\n",
    "        commuOff = np.arange(0,r.shape[0]) * r.shape[1]\n",
    "        commuOff = np.tile(commuOff,(r.shape[0],1)).T\n",
    "        outpu = dlayStep + commuOff\n",
    "        return outpu\n",
    "    \n",
    "    def doIndexDelay2(self,r,dlayStep):\n",
    "        nodes   = np.tile(np.arange(self.C),(self.C,1)) * r.shape[1]\n",
    "        outpu   = nodes - dlayStep\n",
    "        return outpu\n",
    "    \n",
    "    def getAnatoCoupling(self,kG,kL):\n",
    "        \"\"\"Get anatomical network with couplings\"\"\"\n",
    "        kS = self.anato * kG / self.C        # Globa  coupling\n",
    "        np.fill_diagonal(kS,kL)              # Local coupling\n",
    "        return kS\n",
    "    \n",
    "    def getDelays(self,vel):\n",
    "        \"\"\"Return maximum delay and delay steps in samples\"\"\"\n",
    "        dlay        = self.D / (1000.0 * vel)                # [seconds] correct from mm to m\n",
    "        dlayStep    = np.around(dlay / self.dt).astype(np.int32)  # delay on steps backwards to be done\n",
    "        maxDlay     = np.int32(np.max(dlayStep))                  # number of time steps for the longest delay\n",
    "        return dlayStep, maxDlay\n",
    "    \n",
    "    def get_bounds(self):\n",
    "        \"\"\"Boundaries on: velocity, Kl, Kg\"\"\"\n",
    "        return ([0.1, 0, 0],[25, 1000, 5000])\n",
    "    \n",
    "    def _fitFilterBands(self,z):\n",
    "        simuProfile = []\n",
    "        for coefsos in self.coeFil:\n",
    "            # filter frequency bands\n",
    "            zFilt   = sg.sosfiltfilt(coefsos, np.imag(z), axis=1, padtype='odd')\n",
    "            zEnv    = np.abs(sg.hilbert(zFilt, axis=1))\n",
    "            # filter envelope\n",
    "            zEnvFilt= sg.sosfiltfilt(self.coeFilEnv, zEnv, axis=1, padtype='odd')\n",
    "            # Correlation discarding warmup time\n",
    "            envCo = np.corrcoef(zEnvFilt[:,int(self.tMin*self.fs):-int(self.tMin*self.fs)], \n",
    "                                rowvar=True)\n",
    "            simuProfile  = np.append(simuProfile, envCo[np.triu_indices(z.shape[0],1)])\n",
    "        #print(simuProfile.shape)\n",
    "        ccoef, pval = pearsonr(simuProfile, self.empiProfile)\n",
    "        return -1 * ccoef, envCo\n",
    "    #complex128[:,:](float64[:,:],float64[:,:],int64,int64[:,:],float64,float64,float64,float64,float64[:,:],float64), \n",
    "    @numba.jit(nopython=True,cache=True,nogil=True,parallel=True,fastmath=False)\n",
    "    def _KMAOcommu(phi,r,maxDlay,dlayStep,eta,dlt,fs,dt,kS,omga):\n",
    "        C       = phi.shape[0]\n",
    "        #nodes   = range(0,C)\n",
    "        #commuOff = np.arange(0,C) * phi.shape[1]\n",
    "        pi2     = 2 * np.pi\n",
    "        eta2    = 0.5 * eta\n",
    "        sumRsp  = np.empty((C))\n",
    "        sumPHIsp= np.empty((C))\n",
    "        for n in range(maxDlay,phi.shape[1]-1):\n",
    "            rsum1       = -dlt * r[:,n]\n",
    "            rpro1       = eta2 * ( 1 - r[:,n] * r[:,n])# r*r\n",
    "            phipro1     = eta2 * (r[:,n] * r[:,n] + 1) / r[:,n]\n",
    "            idD = n + dlayStep\n",
    "            #for s in nodes:\n",
    "            for s in numba.prange(C):\n",
    "                #idD         = n - dlayStep[:,s] + commuOff\n",
    "                phiDif      = phi.ravel()[idD[s,:]] - phi[s,n]\n",
    "                kSr         = kS[:,s] * r.ravel()[idD[s,:]]\n",
    "                sumRsp[s]   = np.sum( kSr * np.cos( phiDif ))\n",
    "                sumPHIsp[s] = np.sum( kSr * np.sin( phiDif ))\n",
    "            rdt         = rsum1 + rpro1 * sumRsp\n",
    "            phidt       = omga + phipro1 * sumPHIsp\n",
    "            # add differntial step\n",
    "            r[:,n+1]    = r[:,n] + dt*rdt\n",
    "            phi[:,n+1]  = np.remainder(phi[:,n] + dt*phidt, pi2)\n",
    "        r       = r[:,maxDlay+1:]     # remove history samples used in the begining\n",
    "        phi     = phi[:,maxDlay+1:]\n",
    "        # simple downsampling (there may be aliasing)\n",
    "        r   = r[:,::np.int32(1./(fs*dt))] \n",
    "        phi = phi[:,::np.int32(1./(fs*dt))]\n",
    "        return r * np.exp(1j* phi)\n",
    "\n",
    "    @numba.jit(nopython=True,cache=True,nogil=True,parallel=True,fastmath=False)\n",
    "    def _KMAOcommu2(phi,r,maxDlay,dlayStep,eta,dlt,fs,dt,kS,omga):         \n",
    "        C       = phi.shape[0]\n",
    "        #nodes   = range(0,C)\n",
    "        pi2     = 2 * np.pi\n",
    "        eta2    = 0.5 * eta\n",
    "        #sumRsp  = np.empty((C))\n",
    "        #sumPHIsp= np.empty((C))\n",
    "        \n",
    "        phiDif  = np.zeros((C,C), dtype=np.float32)\n",
    "        r_rs    = np.zeros((C,C), dtype=np.float32)\n",
    "        \n",
    "        #kSr     = np.zeros((C,C), dtype=np.float32)\n",
    "        \n",
    "        for n in range(maxDlay,phi.shape[1]-1):\n",
    "            rsum1       = -dlt * r[:,n]\n",
    "            rpro1       = eta2 * ( 1 - r[:,n] * r[:,n])# r*r\n",
    "            phipro1     = eta2 * (r[:,n] * r[:,n] + 1) / r[:,n]\n",
    "            idD = n - dlayStep\n",
    "            #for s in nodes:\n",
    "            phi_r  = phi.ravel()\n",
    "            r_r    = r.ravel()\n",
    "            for s in numba.prange(C):\n",
    "                #idD         = n - dlayStep[:,s] + commuOff\n",
    "                phiDif[:,s] = phi_r[idD[:,s]] - phi[s,n]\n",
    "                r_rs[:,s]  = r_r[idD[:,s]]\n",
    "                \n",
    "            kSr      = kS * r_rs\n",
    "            sumRsp   = np.sum( kSr * np.cos( phiDif ), axis=0)\n",
    "            sumPHIsp = np.sum( kSr * np.sin( phiDif ), axis=0)\n",
    "                \n",
    "            rdt         = rsum1 + rpro1 * sumRsp\n",
    "            phidt       = omga + phipro1 * sumPHIsp\n",
    "            # add differntial step\n",
    "            r[:,n+1]    = r[:,n] + dt*rdt\n",
    "            phi[:,n+1]  = np.remainder(phi[:,n] + dt*phidt, pi2)\n",
    "        r       = r[:,maxDlay+1:]     # remove history samples used in the begining\n",
    "        phi     = phi[:,maxDlay+1:]\n",
    "        # simple downsampling (there may be aliasing)\n",
    "        r   = r[:,::np.int32(1./(fs*dt))] \n",
    "        phi = phi[:,::np.int32(1./(fs*dt))]\n",
    "        return r * np.exp(1j* phi)\n",
    "    \n",
    "    @numba.jit(nopython=True,cache=True,nogil=True,parallel=True,fastmath=False)\n",
    "    def _KMAOcommu3(phi,r,maxDlay,dlayStep,eta,dlt,fs,dt,kS,omga,d_sin,d_cos,d_pi):         \n",
    "        C       = phi.shape[0]  \n",
    "        \n",
    "        idPhi  = np.zeros(C, dtype=np.int32)\n",
    "        \n",
    "        #nodes   = range(0,C)\n",
    "        #commuOff = np.arange(0,C) * phi.shape[1]\n",
    "        pi2     = np.float32(2 * np.pi)\n",
    "        eta2    = np.float32(0.5 * eta)\n",
    "        NoverPi2= np.float32(d_cos.shape[0] / pi2)\n",
    "        sumRsp  = np.empty((C))\n",
    "        sumPHIsp= np.empty((C))\n",
    "        for n in range(maxDlay,phi.shape[1]-1):\n",
    "            rsum1       = -dlt * r[:,n]\n",
    "            rpro1       = eta2 * ( 1 - r[:,n] * r[:,n])# r*r\n",
    "            phipro1     = eta2 * (r[:,n] + 1 / r[:,n]) # (r**2 + 1) / r\n",
    "            idD = n - dlayStep\n",
    "            #for s in nodes:\n",
    "            for s in numba.prange(C):\n",
    "                #idD         = n - dlayStep[:,s] + commuOff\n",
    "                phiDif      = phi.ravel()[idD[:,s]] - phi[s,n]\n",
    "                kSr         = kS[:,s] * r.ravel()[idD[:,s]]\n",
    "                \n",
    "                idPhi_ = phiDif * NoverPi2\n",
    "                \n",
    "                #idPhi = np.searchsorted(d_pi, phiDif)\n",
    "                \n",
    "                for i in range(C):\n",
    "                    idPhi[i] = np.int32(idPhi_[i])\n",
    "                \n",
    "                #idPhi = np.rint(phiDif*NoverPi2).astype(np.int32)\n",
    "                #print(idPhi.shape, d_cos.shape, d_sin.shape)\n",
    "                \n",
    "                sumRsp[s]   = np.sum( kSr * d_cos[idPhi]) #np.cos( phiDif ))\n",
    "                sumPHIsp[s] = np.sum( kSr * d_sin[idPhi])# np.sin( phiDif ))\n",
    "                \n",
    "            rdt         = rsum1 + rpro1 * sumRsp\n",
    "            phidt       = omga + phipro1 * sumPHIsp\n",
    "            # add differntial step\n",
    "            r[:,n+1]    = r[:,n] + dt*rdt\n",
    "            phi[:,n+1]  = np.remainder(phi[:,n] + dt*phidt, pi2)\n",
    "        r       = r[:,maxDlay+1:]     # remove history samples used in the begining\n",
    "        phi     = phi[:,maxDlay+1:]\n",
    "        # simple downsampling (there may be aliasing)\n",
    "        r   = r[:,::np.int64(1./(fs*dt))] \n",
    "        phi = phi[:,::np.int64(1./(fs*dt))]\n",
    "        return r * np.exp(1j* phi)\n",
    "    \n",
    "    \n",
    "    @numba.jit(nopython=True,cache=True,nogil=True,parallel=True,fastmath=False)\n",
    "    def _KMAOcommu4(phi,r,maxDlay,dlayStep,eta,dlt,fs,dt,kS,omga,d_sin,d_cos):         \n",
    "        C       = phi.shape[0]  \n",
    "        \n",
    "        idPhi  = np.int32(0)\n",
    "        #idPhi  = np.zeros(C,dtype=np.int32)\n",
    "        #kSr    = np.zeros((C))\n",
    "        \n",
    "        \n",
    "        #nodes   = range(0,C)\n",
    "        #commuOff = np.arange(0,C) * phi.shape[1]\n",
    "        pi2     = np.float32(2 * np.pi)\n",
    "        eta2    = np.float32(0.5 * eta)\n",
    "        NoverPi2= np.float32(d_cos.shape[0] / pi2)\n",
    "        sumRsp  = np.zeros((C, C),dtype=np.float32)\n",
    "        sumPHIsp= np.zeros((C, C),dtype=np.float32)\n",
    "        for n in range(maxDlay,phi.shape[1]-1):\n",
    "            rsum1       = -dlt * r[:,n]\n",
    "            rpro1       = eta2 * ( 1 - r[:,n] * r[:,n])# r*r\n",
    "            phipro1     = eta2 * (r[:,n] + 1 / r[:,n]) # (r**2 + 1) / r\n",
    "            idD = n - dlayStep\n",
    "            #for s in nodes:\n",
    "            for s in numba.prange(C):\n",
    "                for i in range(C):\n",
    "                    phiDif      = phi[s,idD[s,i]] - phi[s,n]\n",
    "                    kSr         = kS[s,i] * r[s,idD[s,i]]\n",
    "                    idPhi       = np.int32(phiDif * NoverPi2)\n",
    "                    sumRsp[s,i]   = kSr * d_cos[idPhi]\n",
    "                    sumPHIsp[s,i] = kSr * d_sin[idPhi]\n",
    "\n",
    "            sumRsp_   = np.sum(sumRsp, axis=1)\n",
    "            sumPHIsp_ = np.sum(sumPHIsp, axis=1)\n",
    "            \n",
    "            rdt         = rsum1 + rpro1 * sumRsp_\n",
    "            phidt       = omga + phipro1 * sumPHIsp_\n",
    "            # add differntial step\n",
    "            r[:,n+1]    = r[:,n] + dt*rdt\n",
    "            phi[:,n+1]  = np.remainder(phi[:,n] + dt*phidt, pi2)\n",
    "        r       = r[:,maxDlay+1:]     # remove history samples used in the begining\n",
    "        phi     = phi[:,maxDlay+1:]\n",
    "        # simple downsampling (there may be aliasing)\n",
    "        r   = r[:,::np.int64(1./(fs*dt))] \n",
    "        phi = phi[:,::np.int64(1./(fs*dt))]\n",
    "        return r * np.exp(1j* phi)\n",
    "        \n",
    "    def _doNodeContainers(self,maxDlay):      \n",
    "        # node's variables\n",
    "        #import pdb; pdb.set_trace()\n",
    "        r           = np.empty((self.C, int(self.tMax/self.dt + maxDlay)),dtype=np.float32) # node phase parameter [C, Nsamples to integrate]\n",
    "        phi         = np.empty((self.C, int(self.tMax/self.dt + maxDlay)),dtype=np.float32) # node phase parameter [C, Nsamples to integrate]\n",
    "        # initial conditions as history for the time delays\n",
    "        omegaT      = self.omega * np.linspace(0,maxDlay*self.dt+self.dt,maxDlay+1)\n",
    "        r[:,0:maxDlay+1]    = 0.3 * np.ones((self.C,maxDlay+1))\n",
    "        #phi[:,0:maxDlay+1]  = np.tile(np.remainder(omegaT,2*np.pi),(self.C,1))\n",
    "        phi[:,0:maxDlay+1]  = 0.3 * np.ones((self.C,maxDlay+1))\n",
    "        #print(r.dtype, phi.dtype)\n",
    "        return r, phi\n",
    "    \n",
    "    \n",
    "    def setVariablesModel(self,x):\n",
    "        \"set the basic variable need to run the KM model\"\n",
    "        vel     = x[0]\n",
    "        kL      = x[1]\n",
    "        kG      = x[2]\n",
    "        self.kS      = self.getAnatoCoupling(kG,kL)\n",
    "        self.dlayStep, self.maxDlay = self.getDelays(vel)\n",
    "        self.r, self.phi   = self._doNodeContainers(self.maxDlay)\n",
    "        self.dlayId  = self.doIndexDelay(self.phi,self.dlayStep)\n",
    "        #self.doSinCosIx()"
   ]
  },
  {
   "cell_type": "code",
   "execution_count": 236,
   "metadata": {},
   "outputs": [
    {
     "name": "stdout",
     "output_type": "stream",
     "text": [
      "[nan]\n"
     ]
    },
    {
     "name": "stderr",
     "output_type": "stream",
     "text": [
      "/home/oscar/anaconda2/envs/ipy36/lib/python3.6/site-packages/numpy/lib/function_base.py:1128: RuntimeWarning: Mean of empty slice.\n",
      "  avg = a.mean(axis)\n",
      "/home/oscar/anaconda2/envs/ipy36/lib/python3.6/site-packages/numpy/core/_methods.py:73: RuntimeWarning: invalid value encountered in true_divide\n",
      "  ret, rcount, out=ret, casting='unsafe', subok=False)\n",
      "/home/oscar/anaconda2/envs/ipy36/lib/python3.6/site-packages/numpy/lib/function_base.py:3175: RuntimeWarning: Degrees of freedom <= 0 for slice\n",
      "  c = cov(x, y, rowvar)\n",
      "/home/oscar/anaconda2/envs/ipy36/lib/python3.6/site-packages/numpy/lib/function_base.py:3109: RuntimeWarning: divide by zero encountered in double_scalars\n",
      "  c *= 1. / np.float64(fact)\n",
      "/home/oscar/anaconda2/envs/ipy36/lib/python3.6/site-packages/numpy/lib/function_base.py:3109: RuntimeWarning: invalid value encountered in multiply\n",
      "  c *= 1. / np.float64(fact)\n",
      "/home/oscar/anaconda2/envs/ipy36/lib/python3.6/site-packages/scipy/stats/stats.py:5240: RuntimeWarning: invalid value encountered in less\n",
      "  x = np.where(x < 1.0, x, 1.0)  # if x > 1 then return 1.0\n"
     ]
    }
   ],
   "source": [
    "kao = Testkao()\n",
    "fit = kao.fitness([0.9,150,1200])\n",
    "print(fit)\n",
    "#pl.figure()\n",
    "pl.plot(np.abs(np.mean(kao.z,axis=0)))\n",
    "pl.plot(np.mean(np.abs(kao.z),axis=0))\n",
    "pl.show()"
   ]
  },
  {
   "cell_type": "code",
   "execution_count": 19,
   "metadata": {
    "collapsed": true
   },
   "outputs": [],
   "source": [
    "kmt = Testkao()\n",
    "kmt.setVariablesModel([0.9,150, 1200])\n",
    "\n",
    "%lprun -f Testkao._KMAOcommu2 Testkao._KMAOcommu2(kmt.phi,kmt.r,kmt.maxDlay,kmt.dlayStep,kmt.eta,kmt.dlt,kmt.fs,kmt.dt,kmt.kS,kmt.omega)"
   ]
  },
  {
   "cell_type": "code",
   "execution_count": 11,
   "metadata": {},
   "outputs": [
    {
     "name": "stdout",
     "output_type": "stream",
     "text": [
      "4.99 s ± 215 ms per loop (mean ± std. dev. of 7 runs, 1 loop each)\n"
     ]
    }
   ],
   "source": [
    "kao2 = Testkao()\n",
    "#kao4.fitness4([0.9,150,1200])\n",
    "%timeit kao2.fitness2([0.9,150,1200])"
   ]
  },
  {
   "cell_type": "code",
   "execution_count": 12,
   "metadata": {},
   "outputs": [
    {
     "name": "stdout",
     "output_type": "stream",
     "text": [
      "4.25 s ± 460 ms per loop (mean ± std. dev. of 7 runs, 1 loop each)\n"
     ]
    }
   ],
   "source": [
    "kao = Testkao()\n",
    "#kao.fitness([0.9,150,1200])\n",
    "%timeit kao.fitness([0.9,150,1200])"
   ]
  },
  {
   "cell_type": "code",
   "execution_count": 37,
   "metadata": {},
   "outputs": [
    {
     "name": "stdout",
     "output_type": "stream",
     "text": [
      "0.5337403578698402 0.26626207807380836\n",
      "0.05760614440176525 0.023579573431403697\n"
     ]
    }
   ],
   "source": [
    "print(kao.log[0,4], kao.log[0,5])\n",
    "print(kao4.log[0,4], kao4.log[0,5])\n"
   ]
  },
  {
   "cell_type": "code",
   "execution_count": 25,
   "metadata": {},
   "outputs": [
    {
     "name": "stdout",
     "output_type": "stream",
     "text": [
      "0.8314696123025452\n",
      "0.8314701577324907\n",
      "0.8314701577324907\n",
      "0.5555694167251353\n",
      "0.5555702330196023\n"
     ]
    }
   ],
   "source": [
    "N = 1000000\n",
    "#phi = np.random.uniform(0.00001, 2*np.pi,N)\n",
    "phi = np.pi/3.2\n",
    "\n",
    "d_pi     = np.linspace(0,2 * np.pi,N)\n",
    "d_pi_sin = np.sin(d_pi)\n",
    "d_pi_cos = np.cos(d_pi)\n",
    "\n",
    "idpi = np.intp(phi*N/(2*np.pi))\n",
    "\n",
    "d_phisin = d_pi_sin[idpi]\n",
    "d_phicos = d_pi_cos[idpi]\n",
    "\n",
    "#seaSin = np.searchsorted(np.arange(N), phi*N/(2*np.pi))\n",
    "seaSin = np.searchsorted(d_pi, phi)\n",
    "\n",
    "print(np.sin(phi))\n",
    "print(d_phisin)\n",
    "print(d_pi_sin[seaSin])\n",
    "\n",
    "print(d_phicos)\n",
    "print(np.cos(phi))\n",
    "\n",
    "def doIxsin(x):\n",
    "    a = 0\n",
    "    for i in range(N):\n",
    "        a += d_pi_sin[x[i]]\n",
    "    return a\n",
    "        \n",
    "def doSin(x):\n",
    "    a = 0\n",
    "    for i in range(N):\n",
    "        a += np.sin(x[i])\n",
    "    return a\n",
    "        \n",
    "#print(np.sum(d_phisin))\n",
    "#print(np.sum(np.sin(phi)))\n",
    "#print(np.sum(np.abs(d_phisin - np.sin(phi))))\n",
    "      \n",
    "#print(np.sum(d_phicos))\n",
    "#print(np.sum(np.cos(phi)))\n",
    "#print(np.sum(np.abs(d_phicos - np.cos(phi))))"
   ]
  },
  {
   "cell_type": "code",
   "execution_count": 43,
   "metadata": {},
   "outputs": [
    {
     "name": "stdout",
     "output_type": "stream",
     "text": [
      "255 ms ± 5.03 ms per loop (mean ± std. dev. of 7 runs, 1 loop each)\n",
      "118.96799265821375\n"
     ]
    }
   ],
   "source": [
    "%timeit doIxsin(idpi)\n",
    "print(doIxsin(idpi))"
   ]
  },
  {
   "cell_type": "code",
   "execution_count": 42,
   "metadata": {},
   "outputs": [
    {
     "name": "stdout",
     "output_type": "stream",
     "text": [
      "1.4 s ± 33.4 ms per loop (mean ± std. dev. of 7 runs, 1 loop each)\n",
      "118.97003055298563\n"
     ]
    }
   ],
   "source": [
    "%timeit doSin(phi)\n",
    "print(doSin(phi))"
   ]
  },
  {
   "cell_type": "code",
   "execution_count": 61,
   "metadata": {},
   "outputs": [
    {
     "name": "stdout",
     "output_type": "stream",
     "text": [
      "41.3 µs ± 285 ns per loop (mean ± std. dev. of 7 runs, 10000 loops each)\n",
      "23.1 µs ± 204 ns per loop (mean ± std. dev. of 7 runs, 10000 loops each)\n"
     ]
    }
   ],
   "source": [
    "N = np.int32(3000)\n",
    "real =  np.random.rand(N, 100).astype(np.float32)\n",
    "imag =  np.random.rand(N, 100).astype(np.float32)\n",
    "\n",
    "z    = (real + 1j * imag)\n",
    "\n",
    "@numba.jit(nopython=True, nogil=False, parallel=False)\n",
    "def doTestNumba(z,N):\n",
    "    ordeiG = np.zeros(N,dtype=np.float32)\n",
    "    ordeiL = np.zeros(N,dtype=np.float32)\n",
    "    # global order\n",
    "    for i in range(N):\n",
    "        ordeiG[i] = np.absolute(np.mean(z[i,:]))\n",
    "        ordeiL[i] = np.mean( np.absolute(z[i,:]))\n",
    "        \n",
    "    orderG  = np.mean( ordeiG)\n",
    "    orderGst  = np.std( ordeiG)\n",
    "    # local order\n",
    "    orderL  = np.mean(ordeiL)\n",
    "    orderLst  = np.std(ordeiL)\n",
    "    return orderG, orderL, orderGst, orderLst  \n",
    "\n",
    "def doTest(z):\n",
    "    # global order\n",
    "    orG = np.abs( np.mean( z, axis = 0 ))\n",
    "    orderG  = np.mean(orG)\n",
    "    orderGst  = np.std(orG)\n",
    "    # local order\n",
    "    orL = np.mean( np.abs(z), axis = 0 )\n",
    "    orderL  = np.mean(orL)\n",
    "    orderLst  = np.std(orL)\n",
    "    return orderG, orderL, orderGst, orderLst \n",
    "\n",
    "\n",
    "def testDelays(vel,D,dt):\n",
    "    \"\"\"Return maximum delay and delay steps in samples\"\"\"\n",
    "    dlay        = D / (1000.0 * vel)                # [seconds] correct from mm to m\n",
    "    dlayStep    = np.around(dlay / dt).astype(np.int32)  # delay on steps backwards to be done\n",
    "    maxDlay     = np.int32(np.max(dlayStep))                  # number of time steps for the longest delay\n",
    "    return dlayStep, maxDlay\n",
    "\n",
    "#@numba.jit(nopython=True)\n",
    "def testDelaysNumba(vel,D,dt):\n",
    "    \"\"\"Return maximum delay and delay steps in samples\"\"\"\n",
    "    dlay        = D / (1000.0 * vel)                # [seconds] correct from mm to m\n",
    "    dlayStep    = (dlay / dt).astype(np.int32)  # delay on steps backwards to be done\n",
    "    maxDlay     = np.int32(np.max(dlayStep))                  # number of time steps for the longest delay\n",
    "    return dlayStep, maxDlay\n",
    "\n",
    "\n",
    "%timeit testDelays(5.37, kao.D, kao.dt)\n",
    "%timeit testDelaysNumba(5.37, kao.D, kao.dt)\n",
    "\n",
    "#%timeit doTestNumba(z,N)\n",
    "#%timeit doTest(z)"
   ]
  },
  {
   "cell_type": "code",
   "execution_count": 4,
   "metadata": {},
   "outputs": [
    {
     "name": "stdout",
     "output_type": "stream",
     "text": [
      "1.05 s ± 19.3 ms per loop (mean ± std. dev. of 7 runs, 1 loop each)\n",
      "329 ns ± 7.24 ns per loop (mean ± std. dev. of 7 runs, 1000000 loops each)\n",
      "1.71 s ± 6.13 ms per loop (mean ± std. dev. of 7 runs, 1 loop each)\n",
      "427 ns ± 5.84 ns per loop (mean ± std. dev. of 7 runs, 1000000 loops each)\n"
     ]
    }
   ],
   "source": [
    "Nout = 100000\n",
    "Nin  = 100\n",
    "x    = np.arange(Nin, dtype=np.float32)\n",
    "\n",
    "@numba.jit(nopython=True, nogil=False, parallel=False)\n",
    "def testAsType(x,Nout,Nin):\n",
    "    for i in range(Nout):\n",
    "        for j in range(Nin): \n",
    "            y = x.astype(np.int32)\n",
    "            \n",
    "@numba.jit(nopython=True, nogil=False, parallel=False)\n",
    "def testNoType(x,Nout,Nin):\n",
    "    for i in range(Nout):\n",
    "        for j in range(Nin): \n",
    "            y = x\n",
    "\n",
    "@numba.jit(nopython=True, nogil=True, parallel=True)\n",
    "def testAsTypeParallel(x,Nout,Nin):\n",
    "    for i in range(Nout):\n",
    "        for j in numba.prange(Nin): \n",
    "            y = x.astype(np.int32)\n",
    "            \n",
    "@numba.jit(nopython=True, nogil=True, parallel=True)\n",
    "def testNoTypeParallel(x,Nout,Nin):\n",
    "    for i in range(Nout):\n",
    "        for j in numba.prange(Nin): \n",
    "            y = x\n",
    "            \n",
    "            \n",
    "%timeit testAsType(x,Nout,Nin)\n",
    "%timeit testNoType(x,Nout,Nin)\n",
    "%timeit testAsTypeParallel(x,Nout,Nin)\n",
    "%timeit testNoTypeParallel(x,Nout,Nin)\n"
   ]
  },
  {
   "cell_type": "code",
   "execution_count": 143,
   "metadata": {
    "collapsed": true
   },
   "outputs": [],
   "source": [
    "#coeFil, coeFilEnv = desingFilterBandsBA()\n",
    "\n",
    "nyq   = kao.fs / 2.0\n",
    "trans = 2.0\n",
    "freq  = kao.fBands[0]\n",
    "passCut = freq / nyq\n",
    "stopCut = [(freq[0] - trans) / nyq, (freq[1] + trans) / nyq]\n",
    "\n",
    "#b, a    = sg.iirdesign(passCut[0], stopCut[0], gpass=0.0025, gstop=40.0, analog=False, ftype='ellip', output='ba')\n",
    "#zFilt   = sg.filtfilt(b, a, np.imag(kao.z), axis=1, method='pad',padlen=1000)#, padtype='odd')\n",
    "#b, a    = sg.iirdesign(passCut[1], stopCut[1], gpass=0.0025, gstop=40.0, analog=False, ftype='ellip', output='ba')\n",
    "#zFilt   = sg.filtfilt(b, a, zFilt, axis=1, method='pad',padlen=1000)#, padtype='odd')\n",
    "\n",
    "b, a    = sg.iirdesign(passCut, stopCut, gpass=0.0025, gstop=30.0, analog=False, ftype='ellip', output='ba')\n",
    "zFilt   = sg.filtfilt(b, a, np.imag(kao.z), axis=1, method='pad',padlen=500)#, padtype='odd')\n",
    "#plotSingleFilterResp(nyq,(b, a))\n",
    "zEnv    = np.abs(sg.hilbert(zFilt, axis=1))\n",
    "\n",
    "\n",
    "#b, a    = sg.iirdesign(passCut, stopCut, gpass=0.0025, gstop=30.0, analog=False, ftype='cheby2', output='ba')\n",
    "#zFilt2   = sg.filtfilt(b, a, np.imag(kao.z), axis=1, method='pad',padlen=1000)#, padtype='odd')\n",
    "#plotSingleFilterResp(nyq,(b, a))\n",
    "#zEnv2    = np.abs(sg.hilbert(zFilt2, axis=1))\n",
    "\n",
    "\n",
    "#sos    = sg.iirdesign(passCut[0], stopCut[0], gpass=0.0025, gstop=40.0, analog=False, ftype='cheby2', output='sos')\n",
    "#zFilt  = sg.sosfiltfilt(sos, np.imag(kao.z), axis=1, padtype='odd',padlen=1000)\n",
    "#sos    = sg.iirdesign(passCut[1], stopCut[1], gpass=0.0025, gstop=40.0, analog=False, ftype='cheby2', output='sos')\n",
    "#zFilt2  = sg.sosfiltfilt(sos, zFilt, axis=1, padtype='odd',padlen=1000)\n",
    "\n",
    "sos    = sg.iirdesign(passCut, stopCut, gpass=0.0025, gstop=30.0, analog=False, ftype='ellip', output='sos')\n",
    "zFilt3  = sg.sosfiltfilt(sos, np.imag(kao.z), axis=1, padtype='odd',padlen=500)\n",
    "#plotSingleFilterResp(nyq,sos)\n",
    "zEnv3    = np.abs(sg.hilbert(zFilt3, axis=1))\n",
    "\n",
    "\n",
    "sos    = sg.iirdesign(passCut, stopCut, gpass=0.0025, gstop=30.0, analog=False, ftype='cheby2', output='sos')\n",
    "zFilt4  = sg.sosfiltfilt(sos, np.imag(kao.z), axis=1, padtype='odd')\n",
    "#zFilt44 = np.pad(zFilt4, [(0, 0),(1000, 1000)], 'constant', constant_values= (0,0))\n",
    "zFilt44 = np.pad(zFilt4, [(0, 0),(1000, 1000)], 'symmetric')\n",
    "\n",
    "#plotSingleFilterResp(nyq,sos)\n",
    "zEnv4     = np.abs(sg.hilbert(zFilt4, axis=1))\n",
    "#zEnv4     = np.pad(zEnv4, [(0, 0),(1000, 1000)], 'constant', constant_values= (0,0))\n",
    "zEnv44    = np.abs(sg.hilbert(zFilt44, axis=1))\n",
    "\n",
    "sos = sg.iirdesign(0.5 / nyq, (0.5+trans-1)/nyq , gpass=0.0025, gstop=40.0,\n",
    "                                            analog=False, ftype='ellip', output='sos')\n",
    "plotSingleFilterResp(nyq,sos)\n",
    "zEnvFilt4= sg.sosfiltfilt(sos, zEnv4, axis=1, padtype='odd')\n",
    "\n",
    "sos = sg.iirdesign(0.5 / nyq, (0.5+trans)/nyq , gpass=0.0025, gstop=30.0,\n",
    "                                            analog=False, ftype='cheby2', output='sos')\n",
    "plotSingleFilterResp(nyq,sos)\n",
    "zEnvFilt44= sg.sosfiltfilt(sos, zEnv4, axis=1, padtype='odd')\n",
    "\n",
    "#pl.figure()\n",
    "#pl.plot(zEnv[1,:])\n",
    "\n",
    "#pl.plot(zEnv3[1,:])\n",
    "#pl.plot(zEnv4[1,:])\n",
    "#pl.plot(zEnv44[1,:])\n",
    "#pl.show()\n",
    "\n",
    "#pl.figure()\n",
    "#pl.plot(zFilt[1,:])\n",
    "#pl.plot(zFilt3[1,:])\n",
    "#pl.plot(zFilt4[1,:])\n",
    "#pl.plot(zFilt44[1,:])\n",
    "#pl.show()\n",
    "\n",
    "pl.figure()\n",
    "pl.plot(zEnvFilt4[10,:],color='b')\n",
    "pl.plot(zEnvFilt44[10,:],color='r')\n",
    "pl.plot(zEnv4[10,:],color='k')\n",
    "#pl.plot(zEnv44[1,:],color='r')\n",
    "pl.show()"
   ]
  },
  {
   "cell_type": "code",
   "execution_count": 90,
   "metadata": {},
   "outputs": [
    {
     "name": "stdout",
     "output_type": "stream",
     "text": [
      "54.7 ms ± 1.08 ms per loop (mean ± std. dev. of 7 runs, 10 loops each)\n",
      "54.4 ms ± 532 µs per loop (mean ± std. dev. of 7 runs, 10 loops each)\n"
     ]
    }
   ],
   "source": [
    "%timeit sg.sosfiltfilt(sos, np.imag(kao.z), axis=1, padtype='odd',padlen=500)\n",
    "\n",
    "%timeit sg.sosfiltfilt(sos, np.imag(kao.z), axis=1, padtype='odd',padlen=500)"
   ]
  },
  {
   "cell_type": "code",
   "execution_count": 96,
   "metadata": {
    "collapsed": true
   },
   "outputs": [],
   "source": [
    "\n",
    "def desingFilterBandsSOS():\n",
    "    nyq   = kao.fs / 2.0\n",
    "    trans = 1.0\n",
    "    coeFil = []\n",
    "    for freq in kao.fBands:\n",
    "        # Filter frequency bands\n",
    "        passCut = freq / nyq\n",
    "        stopCut = [(freq[0] - trans+1e-16) / nyq, (freq[1] + trans+1e-16) / nyq]\n",
    "        coeFil.append(sg.iirdesign(passCut, stopCut, gpass=0.0025, gstop=40.0,\n",
    "                                        analog=False, ftype='ellip', output='sos'))\n",
    "    # Filter envelops\n",
    "    coeFilEnv = sg.iirdesign(0.5 / nyq, (0.5+trans)/nyq , gpass=0.0025, gstop=40.0,\n",
    "                                            analog=False, ftype='ellip', output='sos')\n",
    "    return coeFil, coeFilEnv\n",
    "    \n",
    "def desingFilterBandsBA():\n",
    "    nyq   = kao.fs / 2.0\n",
    "    trans = 1.0\n",
    "    coeFil = []\n",
    "    for freq in kao.fBands:\n",
    "        # Filter frequency bands\n",
    "        passCut = freq / nyq\n",
    "        stopCut = [(freq[0] - trans+1e-16) / nyq, (freq[1] + trans+1e-16) / nyq]\n",
    "        coeFil.append(sg.iirdesign(passCut, stopCut, gpass=0.0025, gstop=40.0,\n",
    "                                        analog=False, ftype='ellip', output='ba'))\n",
    "    # Filter envelops\n",
    "    coeFilEnv = sg.iirdesign(0.5 / nyq, (0.5+trans)/nyq , gpass=0.0025, gstop=40.0,\n",
    "                                            analog=False, ftype='ellip', output='ba')\n",
    "    return coeFil, coeFilEnv\n",
    "    "
   ]
  },
  {
   "cell_type": "code",
   "execution_count": 3,
   "metadata": {},
   "outputs": [
    {
     "name": "stderr",
     "output_type": "stream",
     "text": [
      "/home/oscar/anaconda2/envs/ipy36/lib/python3.6/site-packages/scipy/signal/filter_design.py:3399: RuntimeWarning: divide by zero encountered in true_divide\n",
      "  (stopb * (passb[0] - passb[1])))\n"
     ]
    }
   ],
   "source": [
    "generations = 3\n",
    "sizePop= 5\n",
    "# algorithm\n",
    "algo   = po.algorithm(po.de(gen=generations))\n",
    "algo.set_verbosity(1)\n",
    "# problem\n",
    "prob   = po.problem(myUDP.TestkaoFile())\n",
    "# population\n",
    "pop    = po.population(prob=prob, size=sizePop)\n",
    "# islad\n",
    "isl = po.island(algo=algo, pop=pop)\n",
    "# evolution\n",
    "popEvo = algo.evolve(pop)\n",
    "isl.evolve()"
   ]
  },
  {
   "cell_type": "code",
   "execution_count": null,
   "metadata": {
    "collapsed": true
   },
   "outputs": [],
   "source": [
    "probE  = popE.problem.extract(Testkao)\n",
    "logged = probE.get_logs()\n",
    "loguda = algo.extract(po.de).get_log()\n",
    "print(logged.shape)\n",
    "print(popE.problem.get_fevals())\n",
    "print(len(loguda))\n",
    "print(loguda[0])\n",
    "print(loguda[-1])\n"
   ]
  },
  {
   "cell_type": "markdown",
   "metadata": {},
   "source": [
    "Save text file with the most relevant information of the simulation"
   ]
  },
  {
   "cell_type": "code",
   "execution_count": null,
   "metadata": {
    "collapsed": true
   },
   "outputs": [],
   "source": [
    "pathsave = '/home/oscar/Documents/PythonProjects/kuramotoAO/optimizationResults/'\n",
    "filename = 'deOnePopFit022.txt'\n",
    "bestFstr  = 'champion fitness: ' + str(popE.champion_f[0]) + '; best fit possible: -1'\n",
    "bestChamp  = 'champion decission vector'\n",
    "bestXstr  = 'velocity: ' + str(popE.champion_x[0]) + ', kL:' + str(popE.champion_x[1]),', kG: ' + str(popE.champion_x[2])\n",
    "popStr   = popE.__str__()\n",
    "algoStr  = algo.__str__()\n",
    "dateStr  = str(datetime.datetime.now())\n",
    "with open(pathsave+filename, \"w\") as text_file:\n",
    "    print(dateStr, end='\\n\\n', file=text_file)\n",
    "    print(bestFstr, end='\\n', file=text_file)  \n",
    "    print(bestChamp, end='\\n', file=text_file)\n",
    "    print(bestXstr, end='\\n\\n', file=text_file)  \n",
    "    print(algoStr, end='\\n', file=text_file)\n",
    "    print(popStr, end='\\n', file=text_file)\n",
    "print('Done')"
   ]
  },
  {
   "cell_type": "markdown",
   "metadata": {},
   "source": [
    "Save numpy array with output parameters"
   ]
  },
  {
   "cell_type": "code",
   "execution_count": null,
   "metadata": {
    "collapsed": true
   },
   "outputs": [],
   "source": [
    "loguda = algo.extract(po.de).get_log()\n",
    "# get best fitness per generation\n",
    "best = np.array([loguda[i][2] for i in range(len(loguda))])\n",
    "# get parameter for the logging variable in problem class\n",
    "probE  = popE.problem.extract(Testkao)\n",
    "logged = probE.get_logs()\n",
    "fitness= logged[:,0]\n",
    "velocity=logged[:,1]\n",
    "kL      = logged[:,2]\n",
    "kG      = logged[:,3]\n",
    "#save file\n",
    "filename = 'deOnePopFit022.npz'\n",
    "outfile  = pathsave + filename\n",
    "np.savez(outfile, fitness=fitness, velocity=velocity, kL=kL, kG=kG)"
   ]
  },
  {
   "cell_type": "markdown",
   "metadata": {
    "collapsed": true
   },
   "source": [
    "# Test performance"
   ]
  },
  {
   "cell_type": "code",
   "execution_count": 39,
   "metadata": {},
   "outputs": [
    {
     "name": "stdout",
     "output_type": "stream",
     "text": [
      "81.3 ms ± 2.68 ms per loop (mean ± std. dev. of 7 runs, 10 loops each)\n",
      "140 ms ± 802 µs per loop (mean ± std. dev. of 7 runs, 10 loops each)\n"
     ]
    }
   ],
   "source": [
    "ns = 100\n",
    "N = 500\n",
    "x = np.ones((ns,ns),order='C')\n",
    "t_r = np.ones((N,ns))\n",
    "t_c = np.ones((ns,N))\n",
    "idx = np.random.randint(0,ns,ns)\n",
    "\n",
    "def testRow(x,N,ns):\n",
    "    #y = np.ones((ns,ns),order='C')\n",
    "    for i in range(N):\n",
    "        for j in range(ns):\n",
    "            y = x[j,:] * t_r[i,:]\n",
    "\n",
    "def testCol(x,N,ns):\n",
    "    #y = np.ones((ns,ns),order='C')\n",
    "    for i in range(N):\n",
    "        for j in range(ns):\n",
    "            y = x[:,j] *  t_c[:,i]\n",
    "            \n",
    "%timeit testRow(x,N,ns)\n",
    "\n",
    "%timeit testCol(x,N,ns)"
   ]
  },
  {
   "cell_type": "markdown",
   "metadata": {},
   "source": [
    "## Test with time along columns"
   ]
  },
  {
   "cell_type": "code",
   "execution_count": 15,
   "metadata": {
    "scrolled": false
   },
   "outputs": [
    {
     "name": "stderr",
     "output_type": "stream",
     "text": [
      "/home/oscar/anaconda2/envs/ipy36/lib/python3.6/site-packages/numba/decorators.py:146: RuntimeWarning: Caching is not available when the 'parallel' target is in use. Caching is now being disabled to allow execution to continue.\n",
      "  warnings.warn(msg, RuntimeWarning)\n"
     ]
    }
   ],
   "source": [
    "#from numba import float64, int64, complex128, prange\n",
    "\n",
    "class TestkaoCol():\n",
    "    def __init__(self):\n",
    "        self.tMax     = np.float64(5.0)\n",
    "        self.tMin     = np.float64(1.0)\n",
    "        self.fs       = np.float64(500.0)\n",
    "        self.omega    = np.float64(2*np.pi * 40.0)\n",
    "        self.dlt      = np.float64(1.0)\n",
    "        self.pathData = '/home/oscar/Documents/MATLAB/Kuramoto/Cabral/'\n",
    "        self.nameDTI  = 'AAL_matrices.mat'         # anatomical network\n",
    "        self.nameFC   = 'Real_Band_FC.mat'     # Empirical Functional connectivity\n",
    "        self.dt       = np.float64(1e-4)\n",
    "        \n",
    "        self.N        = np.int32(100000)\n",
    "        \n",
    "        self._getEmpiricalData()\n",
    "        self._desingFilterBands()\n",
    "        self.log      = np.empty((0,6),dtype=np.float32)\n",
    "        self.doSinCosIx()\n",
    "        \n",
    "    def get_mylogs(self):\n",
    "        return self.log\n",
    "    \n",
    "    def get_name(self):\n",
    "        return \"kaoDynamicsFixKl\"\n",
    "    \n",
    "    def doSinCosIx(self):\n",
    "        d_pi          = np.linspace(-2 * np.pi, 2 * np.pi, self.N)\n",
    "        self.d_sin = np.float32(np.sin(d_pi))\n",
    "        self.d_cos = np.float32(np.cos(d_pi))\n",
    "        \n",
    "          \n",
    "    def _getEmpiricalData(self): \n",
    "        # load anatomical data\n",
    "        loaddata    = self.pathData + self.nameDTI\n",
    "        dti         = sio.loadmat(loaddata)     # C: structural connectivity, D: distance between areas.\n",
    "        self.D      = dti['D']                  # Distances beween nodes\n",
    "        anato       = dti['C']                  # Strucural/anatomical network\n",
    "        self.C      = np.shape(self.D)[1]       # number of nodes/brain areas\n",
    "        self.eta    = np.float64(1.0 / self.C)             # proportion of oscillator per community\n",
    "        self.anato  = anato / np.mean(anato[~np.identity(self.C,dtype=bool)])   # normalize structural network to a mean = 1\n",
    "        # load functional data\n",
    "        loaddata    = self.pathData + self.nameFC\n",
    "        empiri      = sio.loadmat(loaddata)              # fBands: frequency bands, FCf:functional connectivity\n",
    "        self.fBands = empiri['freq_bands'].astype(np.float32) # bandpass filter frequency bands\n",
    "        empiFC      = empiri['FC_Env_mean']              # empiprical functional connectivity\n",
    "        empiFC = np.moveaxis(empiFC,0,-1)                # re-arange the axes to the same manner as simulated data\n",
    "        self.empiProfile = []\n",
    "        for ix in range(0,self.fBands.shape[0]):         # Profile Empirical data\n",
    "            empi1            = empiFC[...,ix]\n",
    "            self.empiProfile = np.append(self.empiProfile, empi1[np.triu_indices(self.C,1)])\n",
    "    \n",
    "    def _desingFilterBands(self):\n",
    "        nyq   = self.fs / 2.0\n",
    "        trans = 2.0\n",
    "        self.coeFil = []\n",
    "        for freq in self.fBands:\n",
    "            # Filter frequency bands\n",
    "            passCut = freq / nyq\n",
    "            stopCut = [(freq[0] - trans) / nyq, (freq[1] + trans) / nyq]\n",
    "            self.coeFil.append(sg.iirdesign(passCut, stopCut, gpass=0.0025, gstop=30.0,\n",
    "                                            analog=False, ftype='cheby2', output='sos'))\n",
    "        # Filter envelops\n",
    "        self.coeFilEnv = sg.iirdesign(0.5 / nyq, (0.5+trans)/nyq , gpass=0.0025, gstop=30.0,\n",
    "                                            analog=False, ftype='cheby2', output='sos')\n",
    "    \n",
    "    def _doKuramotoOrder(self, z):\n",
    "        # global order\n",
    "        orderG  = np.mean(np.abs( np.mean( z[:,int(self.tMin*self.fs):], axis = 1 )))\n",
    "        # local order\n",
    "        orderL  = np.mean(np.mean( np.abs(z[:,int(self.tMin*self.fs):]), axis = 1 ))\n",
    "        return orderG, orderL     \n",
    "\n",
    "    def fitness4(self,x):\n",
    "        vel     = x[0]\n",
    "        kL      = x[1]\n",
    "        kG      = x[2]\n",
    "        kS      = self.getAnatoCoupling(kG,kL)\n",
    "        dlayStep, maxDlay = self.getDelays(vel)\n",
    "        r, phi  = self._doNodeContainers(maxDlay)\n",
    "        #dlayIdx = self.doIndexDelay(r,dlayStep)\n",
    "        #d_pi          = np.linspace(-2 * np.pi, 2 * np.pi, self.N)\n",
    "        z    = TestkaoCol._KMAOcommu4(phi,r,maxDlay,dlayStep,self.eta,self.dlt,self.fs,self.dt,kS,self.omega,self.d_sin,self.d_cos)\n",
    "        self.z = z\n",
    "        fit, self.envCo = self._fitFilterBands(z.T)\n",
    "        orderG, orderL = self._doKuramotoOrder(z.T)\n",
    "        self.log= np.vstack((self.log, np.array([fit,vel,kL,kG,orderL,orderG])))\n",
    "        return np.array([fit])  \n",
    "    \n",
    "    \n",
    "    def fitness2(self,x):\n",
    "        vel     = x[0]\n",
    "        kL      = x[1]\n",
    "        kG      = x[2]\n",
    "        kS      = self.getAnatoCoupling(kG,kL)\n",
    "        dlayStep, maxDlay = self.getDelays(vel)\n",
    "        r, phi  = self._doNodeContainers(maxDlay)\n",
    "        dlayIdx = self.doIndexDelay(r,dlayStep)\n",
    "        z    = TestkaoCol._KMAOcommu2(phi,r,maxDlay,dlayIdx,self.eta,self.dlt,self.fs,self.dt,kS,self.omega)\n",
    "        self.z = z\n",
    "        fit, self.envCo = self._fitFilterBands(z)\n",
    "        orderG, orderL = self._doKuramotoOrder(z)\n",
    "        self.log= np.vstack((self.log, np.array([fit,vel,kL,kG,orderL,orderG])))\n",
    "        return np.array([fit])\n",
    "    \n",
    "    def fitness(self,x):\n",
    "        vel     = x[0]\n",
    "        kL      = x[1]\n",
    "        kG      = x[2]\n",
    "        kS      = self.getAnatoCoupling(kG,kL)\n",
    "        self.dlayStep, maxDlay = self.getDelays(vel)\n",
    "        r, phi  = self._doNodeContainers(maxDlay)\n",
    "        dlayIdx = self.doIndexDelay2(self.dlayStep)\n",
    "        z    = TestkaoCol._KMAOcommu(phi,r,maxDlay,dlayIdx,self.eta,self.dlt,self.fs,self.dt,kS,self.omega)\n",
    "        #print(z.shape)\n",
    "        self.z = z\n",
    "        fit, self.envCo = self._fitFilterBands(z.T)\n",
    "        orderG, orderL = self._doKuramotoOrder(z.T)\n",
    "        self.log= np.vstack((self.log, np.array([fit,vel,kL,kG,orderL,orderG])))\n",
    "        return np.array([fit])\n",
    "    \n",
    "        \n",
    "    def doIndexDelay(self,r,dlayStep):\n",
    "        commuOff = np.arange(0,r.shape[1]) * r.shape[0]\n",
    "        commuOff = np.tile(commuOff,(r.shape[1],1)).T\n",
    "        outpu = dlayStep + commuOff\n",
    "        return outpu\n",
    "    \n",
    "    def doIndexDelay2(self,dlayStep):\n",
    "        '''formula to transform from fancy indexing to flattened array.\n",
    "            idxDlay must be used as idD[s,:] = n * self.C - idxDlay\n",
    "        '''\n",
    "        nodes   = np.tile(np.arange(self.C),(self.C,1))\n",
    "        idxDlay = self.C * dlayStep + nodes \n",
    "        return np.int64(idxDlay)\n",
    "    \n",
    "    def getAnatoCoupling(self,kG,kL):\n",
    "        \"\"\"Get anatomical network with couplings\"\"\"\n",
    "        kS = self.anato * kG / self.C        # Globa  coupling\n",
    "        np.fill_diagonal(kS,kL)              # Local coupling\n",
    "        return np.float64(kS)\n",
    "    \n",
    "    def getDelays(self,vel):\n",
    "        \"\"\"Return maximum delay and delay steps in samples\"\"\"\n",
    "        dlay        = self.D / (1000.0 * vel)                # [seconds] correct from mm to m\n",
    "        dlayStep    = np.around(dlay / self.dt).astype(np.int32)  # delay on steps backwards to be done\n",
    "        maxDlay     = np.int32(np.max(dlayStep))                  # number of time steps for the longest delay\n",
    "        return dlayStep, maxDlay\n",
    "    \n",
    "    def get_bounds(self):\n",
    "        \"\"\"Boundaries on: velocity, Kl, Kg\"\"\"\n",
    "        return ([0.1, 0, 0],[25, 1000, 5000])\n",
    "    \n",
    "    def _fitFilterBands(self,z):\n",
    "        #print(z.shape)\n",
    "        simuProfile = []\n",
    "        for coefsos in self.coeFil:\n",
    "            # filter frequency bands\n",
    "            zFilt   = sg.sosfiltfilt(coefsos, np.imag(z), axis=1, padtype='odd')\n",
    "            zEnv    = np.abs(sg.hilbert(zFilt, axis=1))\n",
    "            # filter envelope\n",
    "            zEnvFilt= sg.sosfiltfilt(self.coeFilEnv, zEnv, axis=1, padtype='odd')\n",
    "            # Correlation discarding warmup time\n",
    "            envCo = np.corrcoef(zEnvFilt[:,int(self.tMin*self.fs):-int(self.tMin*self.fs/2)], \n",
    "                                rowvar=True)\n",
    "            simuProfile  = np.append(simuProfile, envCo[np.triu_indices(z.shape[0],1)])\n",
    "        #print(simuProfile.shape)\n",
    "        ccoef, pval = pearsonr(simuProfile, self.empiProfile)\n",
    "        return -1 * ccoef, envCo\n",
    "\n",
    "    def _fitFilterBands2(self,z):\n",
    "        #print(z.shape)\n",
    "        simuProfile = []\n",
    "        for coefsos in self.coeFil:\n",
    "            # filter frequency bands\n",
    "            zFilt   = sg.sosfiltfilt(coefsos, np.imag(z), axis=0, padtype='odd')\n",
    "            zEnv    = np.abs(sg.hilbert(zFilt, axis=0))\n",
    "            # filter envelope\n",
    "            zEnvFilt= sg.sosfiltfilt(self.coeFilEnv, zEnv, axis=0, padtype='odd')\n",
    "            # Correlation discarding warmup time\n",
    "            envCo = np.corrcoef(zEnvFilt[int(self.tMin*self.fs):-int(self.tMin*self.fs/2),:], \n",
    "                                rowvar=False)\n",
    "            simuProfile  = np.append(simuProfile, envCo[np.triu_indices(z.shape[1],1)])\n",
    "        #print(simuProfile.shape)\n",
    "        ccoef, pval = pearsonr(simuProfile, self.empiProfile)\n",
    "        return -1 * ccoef, envCo\n",
    "    \n",
    "    @numba.jit(nopython=True,cache=True,nogil=True,parallel=True,fastmath=False)\n",
    "    def _KMAOcommu2(phi,r,maxDlay,dlayStep,eta,dlt,fs,dt,kS,omga):         \n",
    "        C       = phi.shape[1]\n",
    "        #nodes   = range(0,C)\n",
    "        pi2     = np.float32(2 * np.pi)\n",
    "        eta2    = np.float32(0.5 * eta)\n",
    "        #sumRsp  = np.empty((C))\n",
    "        #sumPHIsp= np.empty((C))\n",
    "        \n",
    "        phiDif  = np.zeros((C,C), dtype=np.float32)\n",
    "        r_rs    = np.zeros((C,C), dtype=np.float32)\n",
    "        \n",
    "        #kSr     = np.zeros((C,C), dtype=np.float32)\n",
    "        \n",
    "        for n in range(maxDlay,phi.shape[0]-1):\n",
    "            rsum1       = -dlt * r[n,:]\n",
    "            rpro1       = eta2 * ( 1 - r[n,:] * r[n,:])# r*r\n",
    "            phipro1     = eta2 * (r[n,:] + 1 / r[n,:])\n",
    "            idD = n - dlayStep\n",
    "            #for s in nodes:\n",
    "            phi_r  = phi.ravel()\n",
    "            r_r    = r.ravel()\n",
    "            for s in numba.prange(C):\n",
    "                #idD         = n - dlayStep[:,s] + commuOff\n",
    "                phiDif[s,:] = phi_r[idD[s,:]] - phi[n,s]\n",
    "                r_rs[s,:]  = r_r[idD[s,:]]\n",
    "                \n",
    "            kSr      = kS * r_rs\n",
    "            sumRsp   = np.sum( kSr * np.cos( phiDif ), axis=1)\n",
    "            sumPHIsp = np.sum( kSr * np.sin( phiDif ), axis=1)\n",
    "                \n",
    "            rdt         = rsum1 + rpro1 * sumRsp\n",
    "            phidt       = omga + phipro1 * sumPHIsp\n",
    "            # add differntial step\n",
    "            r[n+1,:]    = r[n,:] + dt*rdt\n",
    "            phi[n+1,:]  = np.remainder(phi[n,:] + dt*phidt, pi2)\n",
    "        r       = r[maxDlay+1:,:]     # remove history samples used in the begining\n",
    "        phi     = phi[maxDlay+1:,:]\n",
    "        # simple downsampling (there may be aliasing)\n",
    "        r   = r[::np.int32(1./(fs*dt)),:] \n",
    "        phi = phi[::np.int32(1./(fs*dt)),:]\n",
    "        return r * np.exp(1j* phi)\n",
    "    \n",
    "    #numba.complex64[:,:](numba.float32[:,:],numba.float32[:,:],numba.int32,numba.int64[:,:],numba.float32,numba.float32,numba.float32,numba.float32,numba.float32[:,:],numba.float32) \n",
    "    #@numba.jit(nopython=True,cache=True,nogil=True,parallel=True,fastmath=True)\n",
    "    def _KMAOcommu4(phi,r,maxDlay,dlayStep,eta,dlt,fs,dt,kS,omga,d_sin,d_cos):         \n",
    "        C       = phi.shape[1]  \n",
    "        \n",
    "        idPhi  = np.int32(0)\n",
    "        #idPhi  = np.zeros(C,dtype=np.int32)\n",
    "        #kSr    = np.zeros((C))\n",
    "        \n",
    "        \n",
    "        #nodes   = range(0,C)\n",
    "        #commuOff = np.arange(0,C) * phi.shape[1]\n",
    "        pi2     = np.float32(2 * np.pi)\n",
    "        eta2    = np.float32(0.5 * eta)\n",
    "        NoverPi2= np.float32(d_cos.shape[0] / pi2)\n",
    "        sumRsp  = np.zeros((C, C),dtype=np.float32)\n",
    "        sumPHIsp= np.zeros((C, C),dtype=np.float32)\n",
    "        for n in range(maxDlay,phi.shape[0]-1):\n",
    "            rsum1       = -dlt * r[n,:]\n",
    "            rpro1       = eta2 * ( 1 - r[n,:] * r[n,:])# r*r\n",
    "            phipro1     = eta2 * (r[n,:] + 1 / r[n,:]) # (r**2 + 1) / r\n",
    "            idD = n - dlayStep\n",
    "            #for s in nodes:\n",
    "            for s in numba.prange(C):\n",
    "                for i in range(C):\n",
    "                    phiDif      = phi[idD[i,s],s] - phi[n,s]\n",
    "                    kSr         = kS[i,s] * r[idD[i,s],s]\n",
    "                    idPhi       = np.int32(phiDif * NoverPi2)\n",
    "                    sumRsp[s,i]   = kSr * d_cos[idPhi]\n",
    "                    sumPHIsp[s,i] = kSr * d_sin[idPhi]\n",
    "\n",
    "            sumRsp_   = np.sum(sumRsp, axis=1)\n",
    "            sumPHIsp_ = np.sum(sumPHIsp, axis=1)\n",
    "            \n",
    "            rdt         = rsum1 + rpro1 * sumRsp_\n",
    "            phidt       = omga + phipro1 * sumPHIsp_\n",
    "            # add differntial step\n",
    "            r[n+1,:]    = r[n,:] + dt*rdt\n",
    "            phi[n+1,:]  = np.remainder(phi[n,:] + dt*phidt, pi2)\n",
    "        r       = r[maxDlay+1:,:]     # remove history samples used in the begining\n",
    "        phi     = phi[maxDlay+1:,:]\n",
    "        # simple downsampling (there may be aliasing)\n",
    "        r   = r[::np.int64(1./(fs*dt)),:] \n",
    "        phi = phi[::np.int64(1./(fs*dt)),:]\n",
    "        return r * np.exp(1j* phi)\n",
    "    \n",
    "    #numba.complex64[:,:](numba.float32[:,:],numba.float32[:,:],numba.int32,numba.int64[:,:],numba.float32,numba.float32,numba.float32,numba.float32,numba.float32[:,:],numba.float32) \n",
    "    @numba.jit(nopython=True,cache=True,nogil=True,parallel=True,fastmath=False)\n",
    "    def _KMAOcommu(phi,r,maxDlay,dlayStep,eta,dlt,fs,dt,kS,omga):\n",
    "        C       = phi.shape[1]\n",
    "        #nodes   = range(0,C)\n",
    "        #commuOff = np.arange(0,C) * phi.shape[1]\n",
    "        pi2     = np.float64(2 * np.pi)\n",
    "        eta2    = np.float64(0.5 * eta)\n",
    "        sumRsp  = np.empty((C),dtype=np.float64)\n",
    "        sumPHIsp= np.empty((C),dtype=np.float64)\n",
    "        for n in range(maxDlay,phi.shape[0]-1):\n",
    "            rsum1       = -dlt * r[n,:]\n",
    "            rpro1       = eta2 * ( 1 - r[n,:] * r[n,:])# r*r\n",
    "            phipro1     = eta2 * (r[n,:]  + 1 / r[n,:])\n",
    "            \n",
    "            idD = n * C - dlayStep\n",
    "            \n",
    "            phi_r  = phi.ravel()\n",
    "            r_r    = r.ravel() \n",
    "            #import pdb; pdb.set_trace()\n",
    "            #if n >= maxDlay*2 - 1:\n",
    "            #    import pdb; pdb.set_trace()\n",
    "            for s in range(C):\n",
    "                phiDif      = phi_r[idD[s,:]] - phi[n,s]\n",
    "                kSr         = kS[:,s] * r_r[idD[s,:]]  # good kS[:,s]\n",
    "                sumRsp[s]   = np.sum( kSr * np.cos( phiDif ))\n",
    "                sumPHIsp[s] = np.sum( kSr * np.sin( phiDif ))\n",
    "            rdt         = rsum1 + rpro1 * sumRsp\n",
    "            phidt       = omga + phipro1 * sumPHIsp\n",
    "            # add differntial step\n",
    "            r[n+1,:]    = r[n,:] + dt*rdt\n",
    "            phi_ = phi[n,:] + dt*phidt\n",
    "            phi[n+1,:]  = np.remainder(phi_, pi2)\n",
    "        r       = r[maxDlay+1:,:]     # remove history samples used in the begining\n",
    "        phi     = phi[maxDlay+1:,:]\n",
    "        # simple downsampling (there may be aliasing)\n",
    "        r   = r[::np.int32(1./(fs*dt)),:] \n",
    "        phi = phi[::np.int32(1./(fs*dt)),:]\n",
    "        return (r * np.exp(1j* phi)).astype(np.complex64)\n",
    "    \n",
    "    def _doNodeContainers(self,maxDlay):      \n",
    "        # node's variables\n",
    "        #import pdb; pdb.set_trace()\n",
    "        r           = np.zeros((int(self.tMax/self.dt + maxDlay), self.C) ,dtype=np.float64) # node phase parameter [C, Nsamples to integrate]\n",
    "        phi         = np.zeros((int(self.tMax/self.dt + maxDlay), self.C) ,dtype=np.float64) # node phase parameter [C, Nsamples to integrate]\n",
    "        \n",
    "        # initial conditions as history for the time delays\n",
    "        #omegaT      = self.omega * np.linspace(0,maxDlay*self.dt+self.dt,maxDlay+1)\n",
    "        r[0:maxDlay+1,:]    = 0.3 * np.ones((maxDlay+1,self.C))\n",
    "        #phi[0:maxDlay+1,:]  = np.tile(np.remainder(omegaT,2*np.pi), (self.C,1)).T\n",
    "        phi[0:maxDlay+1,:]  = 0.3 * np.ones((maxDlay+1,self.C))\n",
    "        #print(r.dtype, phi.dtype)\n",
    "        return r, phi\n",
    "    \n",
    "    \n",
    "    def setVariablesModel(self,x):\n",
    "        \"set the basic variable need to run the KM model\"\n",
    "        vel     = x[0]\n",
    "        kL      = x[1]\n",
    "        kG      = x[2]\n",
    "        self.kS      = self.getAnatoCoupling(kG,kL)\n",
    "        self.dlayStep, self.maxDlay = self.getDelays(vel)\n",
    "        self.r, self.phi   = self._doNodeContainers(self.maxDlay)\n",
    "        self.dlayId  = self.doIndexDelay(self.phi,self.dlayStep)\n",
    "        #self.doSinCosIx()"
   ]
  },
  {
   "cell_type": "code",
   "execution_count": 16,
   "metadata": {
    "scrolled": false
   },
   "outputs": [
    {
     "data": {
      "text/plain": [
       "array([0.03906853])"
      ]
     },
     "execution_count": 16,
     "metadata": {},
     "output_type": "execute_result"
    }
   ],
   "source": [
    "kmCol = TestkaoCol()\n",
    "kmCol.fitness([0.9,150, 1200])"
   ]
  },
  {
   "cell_type": "code",
   "execution_count": 7,
   "metadata": {},
   "outputs": [
    {
     "data": {
      "text/plain": [
       "array([0.08003368])"
      ]
     },
     "execution_count": 7,
     "metadata": {},
     "output_type": "execute_result"
    }
   ],
   "source": [
    "kmCol2 = TestkaoCol()\n",
    "kmCol2.fitness([0.9,150, 1200])"
   ]
  },
  {
   "cell_type": "code",
   "execution_count": 22,
   "metadata": {},
   "outputs": [
    {
     "data": {
      "text/plain": [
       "array([0.10782875])"
      ]
     },
     "execution_count": 22,
     "metadata": {},
     "output_type": "execute_result"
    }
   ],
   "source": [
    "kao = Testkao()\n",
    "kao.fitness([0.9,150,1200])"
   ]
  },
  {
   "cell_type": "code",
   "execution_count": 17,
   "metadata": {},
   "outputs": [
    {
     "data": {
      "text/plain": [
       "[<matplotlib.lines.Line2D at 0x7f8ac7402668>]"
      ]
     },
     "execution_count": 17,
     "metadata": {},
     "output_type": "execute_result"
    }
   ],
   "source": [
    "pl.figure()\n",
    "pl.plot(np.abs(np.mean(kmCol.z, axis=1)))\n",
    "pl.plot(np.mean(np.abs(kmCol.z), axis=1),'--')"
   ]
  },
  {
   "cell_type": "code",
   "execution_count": 8,
   "metadata": {},
   "outputs": [
    {
     "data": {
      "text/plain": [
       "[<matplotlib.lines.Line2D at 0x7fc087447a90>]"
      ]
     },
     "execution_count": 8,
     "metadata": {},
     "output_type": "execute_result"
    }
   ],
   "source": [
    "pl.figure()\n",
    "pl.plot(np.abs(np.mean(kmCol2.z, axis=1)))\n",
    "pl.plot(np.mean(np.abs(kmCol2.z), axis=1),'--')"
   ]
  },
  {
   "cell_type": "code",
   "execution_count": 23,
   "metadata": {},
   "outputs": [
    {
     "data": {
      "text/plain": [
       "[<matplotlib.lines.Line2D at 0x7f8ac4a808d0>]"
      ]
     },
     "execution_count": 23,
     "metadata": {},
     "output_type": "execute_result"
    }
   ],
   "source": [
    "pl.figure()\n",
    "pl.plot(np.abs(np.mean(kao.z, axis=0)))\n",
    "pl.plot(np.mean(np.abs(kao.z), axis=0),'--')"
   ]
  },
  {
   "cell_type": "code",
   "execution_count": 106,
   "metadata": {},
   "outputs": [
    {
     "data": {
      "text/plain": [
       "[<matplotlib.lines.Line2D at 0x7ff7282b2128>]"
      ]
     },
     "execution_count": 106,
     "metadata": {},
     "output_type": "execute_result"
    }
   ],
   "source": [
    "#kmCol2 = TestkaoCol()\n",
    "#kmCol.setVariablesModel([0.9,150, 1200])\n",
    "#coef, corr = kmCol._fitFilterBands(kmCol.z.T)\n",
    "#pl.plot(np.imag(zm))\n",
    "pl.plot(np.abs(np.mean(kmCol.z, axis=1)))\n",
    "pl.plot(np.mean(np.abs(kmCol.z), axis=1),'--')"
   ]
  },
  {
   "cell_type": "code",
   "execution_count": 17,
   "metadata": {
    "collapsed": true
   },
   "outputs": [],
   "source": [
    "kmCol3 = TestkaoCol()\n",
    "kmCol3.setVariablesModel([0.9,150, 1200])\n",
    "#kmRow = Testkao()\n",
    "#kmRow.setVariablesModel([0.9,150, 1200])"
   ]
  },
  {
   "cell_type": "code",
   "execution_count": 24,
   "metadata": {},
   "outputs": [
    {
     "name": "stdout",
     "output_type": "stream",
     "text": [
      "75132\n"
     ]
    }
   ],
   "source": [
    "print(np.sum(kmCol3.dlayStep[10,:]))"
   ]
  },
  {
   "cell_type": "code",
   "execution_count": 20,
   "metadata": {},
   "outputs": [
    {
     "data": {
      "text/plain": [
       "array([1. , 1.5, 2. , 2.5, 3. , 3.5, 4. , 4.5, 5. , 5.5])"
      ]
     },
     "execution_count": 20,
     "metadata": {},
     "output_type": "execute_result"
    }
   ],
   "source": [
    "np.remainder(np.arange(1,6,0.5),2*np.pi)"
   ]
  },
  {
   "cell_type": "code",
   "execution_count": 68,
   "metadata": {},
   "outputs": [
    {
     "name": "stdout",
     "output_type": "stream",
     "text": [
      "112 ms ± 3.13 ms per loop (mean ± std. dev. of 7 runs, 10 loops each)\n",
      "130 ms ± 9.02 ms per loop (mean ± std. dev. of 7 runs, 1 loop each)\n"
     ]
    }
   ],
   "source": [
    "%timeit kmCol._fitFilterBands(kmCol.z.T)\n",
    "%timeit kmCol._fitFilterBands2(kmCol.z)"
   ]
  },
  {
   "cell_type": "code",
   "execution_count": 13,
   "metadata": {},
   "outputs": [
    {
     "name": "stdout",
     "output_type": "stream",
     "text": [
      "225 ms ± 744 µs per loop (mean ± std. dev. of 7 runs, 1 loop each)\n",
      "277 ms ± 1 ms per loop (mean ± std. dev. of 7 runs, 1 loop each)\n"
     ]
    }
   ],
   "source": [
    "%timeit TestkaoCol._KMAOcommu4(kmCol.phi,kmCol.r,kmCol.maxDlay,kmCol.dlayStep,kmCol.eta,kmCol.dlt,kmCol.fs,kmCol.dt,kmCol.kS,kmCol.omega,kmCol.d_sin,kmCol.d_cos)\n",
    "%timeit Testkao._KMAOcommu4(kmRow.phi,kmRow.r,kmRow.maxDlay,kmRow.dlayStep,kmRow.eta,kmRow.dlt,kmRow.fs,kmRow.dt,kmRow.kS,kmRow.omega,kmRow.d_sin,kmRow.d_cos)"
   ]
  },
  {
   "cell_type": "code",
   "execution_count": 20,
   "metadata": {},
   "outputs": [
    {
     "name": "stdout",
     "output_type": "stream",
     "text": [
      "1.83 s ± 4.91 ms per loop (mean ± std. dev. of 7 runs, 1 loop each)\n",
      "275 ms ± 4.98 ms per loop (mean ± std. dev. of 7 runs, 1 loop each)\n"
     ]
    }
   ],
   "source": [
    "%timeit TestkaoCol._KMAOcommu(kmCol.phi,kmCol.r,kmCol.maxDlay,kmCol.dlayId,kmCol.eta,kmCol.dlt,kmCol.fs,kmCol.dt,kmCol.kS,kmCol.omega)\n",
    "%timeit Testkao._KMAOcommu(kmRow.phi,kmRow.r,kmRow.maxDlay,kmRow.dlayId,kmRow.eta,kmRow.dlt,kmRow.fs,kmRow.dt,kmRow.kS,kmRow.omega)"
   ]
  },
  {
   "cell_type": "code",
   "execution_count": 219,
   "metadata": {},
   "outputs": [
    {
     "name": "stdout",
     "output_type": "stream",
     "text": [
      "4.52 s ± 183 ms per loop (mean ± std. dev. of 7 runs, 1 loop each)\n",
      "4.58 s ± 148 ms per loop (mean ± std. dev. of 7 runs, 1 loop each)\n"
     ]
    }
   ],
   "source": [
    "%timeit TestkaoCol._KMAOcommu2(kmCol.phi,kmCol.r,kmCol.maxDlay,kmCol.dlayId,kmCol.eta,kmCol.dlt,kmCol.fs,kmCol.dt,kmCol.kS,kmCol.omega)\n",
    "%timeit Testkao._KMAOcommu2(kmRow.phi,kmRow.r,kmRow.maxDlay,kmRow.dlayId,kmRow.eta,kmRow.dlt,kmRow.fs,kmRow.dt,kmRow.kS,kmRow.omega)"
   ]
  },
  {
   "cell_type": "code",
   "execution_count": 21,
   "metadata": {
    "collapsed": true
   },
   "outputs": [
    {
     "ename": "TypeError",
     "evalue": "not enough arguments: expected 12, got 10",
     "output_type": "error",
     "traceback": [
      "\u001b[0;31m--------------------------------------------------------------\u001b[0m",
      "\u001b[0;31mTypeError\u001b[0m                    Traceback (most recent call last)",
      "\u001b[0;32m<ipython-input-21-85f8e1676985>\u001b[0m in \u001b[0;36m<module>\u001b[0;34m()\u001b[0m\n\u001b[0;32m----> 1\u001b[0;31m \u001b[0mget_ipython\u001b[0m\u001b[0;34m(\u001b[0m\u001b[0;34m)\u001b[0m\u001b[0;34m.\u001b[0m\u001b[0mmagic\u001b[0m\u001b[0;34m(\u001b[0m\u001b[0;34m'lprun -f TestkaoCol._KMAOcommu4 TestkaoCol._KMAOcommu4(kmCol.phi,kmCol.r,kmCol.maxDlay,kmCol.dlayId,kmCol.eta,kmCol.dlt,kmCol.fs,kmCol.dt,kmCol.kS,kmCol.omega)'\u001b[0m\u001b[0;34m)\u001b[0m\u001b[0;34m\u001b[0m\u001b[0m\n\u001b[0m",
      "\u001b[0;32m~/anaconda2/envs/ipy36/lib/python3.6/site-packages/IPython/core/interactiveshell.py\u001b[0m in \u001b[0;36mmagic\u001b[0;34m(self, arg_s)\u001b[0m\n\u001b[1;32m   2144\u001b[0m         \u001b[0mmagic_name\u001b[0m\u001b[0;34m,\u001b[0m \u001b[0m_\u001b[0m\u001b[0;34m,\u001b[0m \u001b[0mmagic_arg_s\u001b[0m \u001b[0;34m=\u001b[0m \u001b[0marg_s\u001b[0m\u001b[0;34m.\u001b[0m\u001b[0mpartition\u001b[0m\u001b[0;34m(\u001b[0m\u001b[0;34m' '\u001b[0m\u001b[0;34m)\u001b[0m\u001b[0;34m\u001b[0m\u001b[0m\n\u001b[1;32m   2145\u001b[0m         \u001b[0mmagic_name\u001b[0m \u001b[0;34m=\u001b[0m \u001b[0mmagic_name\u001b[0m\u001b[0;34m.\u001b[0m\u001b[0mlstrip\u001b[0m\u001b[0;34m(\u001b[0m\u001b[0mprefilter\u001b[0m\u001b[0;34m.\u001b[0m\u001b[0mESC_MAGIC\u001b[0m\u001b[0;34m)\u001b[0m\u001b[0;34m\u001b[0m\u001b[0m\n\u001b[0;32m-> 2146\u001b[0;31m         \u001b[0;32mreturn\u001b[0m \u001b[0mself\u001b[0m\u001b[0;34m.\u001b[0m\u001b[0mrun_line_magic\u001b[0m\u001b[0;34m(\u001b[0m\u001b[0mmagic_name\u001b[0m\u001b[0;34m,\u001b[0m \u001b[0mmagic_arg_s\u001b[0m\u001b[0;34m)\u001b[0m\u001b[0;34m\u001b[0m\u001b[0m\n\u001b[0m\u001b[1;32m   2147\u001b[0m \u001b[0;34m\u001b[0m\u001b[0m\n\u001b[1;32m   2148\u001b[0m     \u001b[0;31m#-------------------------------------------------------------------------\u001b[0m\u001b[0;34m\u001b[0m\u001b[0;34m\u001b[0m\u001b[0m\n",
      "\u001b[0;32m~/anaconda2/envs/ipy36/lib/python3.6/site-packages/IPython/core/interactiveshell.py\u001b[0m in \u001b[0;36mrun_line_magic\u001b[0;34m(self, magic_name, line)\u001b[0m\n\u001b[1;32m   2065\u001b[0m                 \u001b[0mkwargs\u001b[0m\u001b[0;34m[\u001b[0m\u001b[0;34m'local_ns'\u001b[0m\u001b[0;34m]\u001b[0m \u001b[0;34m=\u001b[0m \u001b[0msys\u001b[0m\u001b[0;34m.\u001b[0m\u001b[0m_getframe\u001b[0m\u001b[0;34m(\u001b[0m\u001b[0mstack_depth\u001b[0m\u001b[0;34m)\u001b[0m\u001b[0;34m.\u001b[0m\u001b[0mf_locals\u001b[0m\u001b[0;34m\u001b[0m\u001b[0m\n\u001b[1;32m   2066\u001b[0m             \u001b[0;32mwith\u001b[0m \u001b[0mself\u001b[0m\u001b[0;34m.\u001b[0m\u001b[0mbuiltin_trap\u001b[0m\u001b[0;34m:\u001b[0m\u001b[0;34m\u001b[0m\u001b[0m\n\u001b[0;32m-> 2067\u001b[0;31m                 \u001b[0mresult\u001b[0m \u001b[0;34m=\u001b[0m \u001b[0mfn\u001b[0m\u001b[0;34m(\u001b[0m\u001b[0;34m*\u001b[0m\u001b[0margs\u001b[0m\u001b[0;34m,\u001b[0m\u001b[0;34m**\u001b[0m\u001b[0mkwargs\u001b[0m\u001b[0;34m)\u001b[0m\u001b[0;34m\u001b[0m\u001b[0m\n\u001b[0m\u001b[1;32m   2068\u001b[0m             \u001b[0;32mreturn\u001b[0m \u001b[0mresult\u001b[0m\u001b[0;34m\u001b[0m\u001b[0m\n\u001b[1;32m   2069\u001b[0m \u001b[0;34m\u001b[0m\u001b[0m\n",
      "\u001b[0;32m<decorator-gen-157>\u001b[0m in \u001b[0;36mlprun\u001b[0;34m(self, parameter_s)\u001b[0m\n",
      "\u001b[0;32m~/anaconda2/envs/ipy36/lib/python3.6/site-packages/IPython/core/magic.py\u001b[0m in \u001b[0;36m<lambda>\u001b[0;34m(f, *a, **k)\u001b[0m\n\u001b[1;32m    185\u001b[0m     \u001b[0;31m# but it's overkill for just that one bit of state.\u001b[0m\u001b[0;34m\u001b[0m\u001b[0;34m\u001b[0m\u001b[0m\n\u001b[1;32m    186\u001b[0m     \u001b[0;32mdef\u001b[0m \u001b[0mmagic_deco\u001b[0m\u001b[0;34m(\u001b[0m\u001b[0marg\u001b[0m\u001b[0;34m)\u001b[0m\u001b[0;34m:\u001b[0m\u001b[0;34m\u001b[0m\u001b[0m\n\u001b[0;32m--> 187\u001b[0;31m         \u001b[0mcall\u001b[0m \u001b[0;34m=\u001b[0m \u001b[0;32mlambda\u001b[0m \u001b[0mf\u001b[0m\u001b[0;34m,\u001b[0m \u001b[0;34m*\u001b[0m\u001b[0ma\u001b[0m\u001b[0;34m,\u001b[0m \u001b[0;34m**\u001b[0m\u001b[0mk\u001b[0m\u001b[0;34m:\u001b[0m \u001b[0mf\u001b[0m\u001b[0;34m(\u001b[0m\u001b[0;34m*\u001b[0m\u001b[0ma\u001b[0m\u001b[0;34m,\u001b[0m \u001b[0;34m**\u001b[0m\u001b[0mk\u001b[0m\u001b[0;34m)\u001b[0m\u001b[0;34m\u001b[0m\u001b[0m\n\u001b[0m\u001b[1;32m    188\u001b[0m \u001b[0;34m\u001b[0m\u001b[0m\n\u001b[1;32m    189\u001b[0m         \u001b[0;32mif\u001b[0m \u001b[0mcallable\u001b[0m\u001b[0;34m(\u001b[0m\u001b[0marg\u001b[0m\u001b[0;34m)\u001b[0m\u001b[0;34m:\u001b[0m\u001b[0;34m\u001b[0m\u001b[0m\n",
      "\u001b[0;32m~/anaconda2/envs/ipy36/lib/python3.6/site-packages/line_profiler.py\u001b[0m in \u001b[0;36mlprun\u001b[0;34m(self, parameter_s)\u001b[0m\n\u001b[1;32m    354\u001b[0m         \u001b[0;32mtry\u001b[0m\u001b[0;34m:\u001b[0m\u001b[0;34m\u001b[0m\u001b[0m\n\u001b[1;32m    355\u001b[0m             \u001b[0;32mtry\u001b[0m\u001b[0;34m:\u001b[0m\u001b[0;34m\u001b[0m\u001b[0m\n\u001b[0;32m--> 356\u001b[0;31m                 \u001b[0mprofile\u001b[0m\u001b[0;34m.\u001b[0m\u001b[0mrunctx\u001b[0m\u001b[0;34m(\u001b[0m\u001b[0marg_str\u001b[0m\u001b[0;34m,\u001b[0m \u001b[0mglobal_ns\u001b[0m\u001b[0;34m,\u001b[0m \u001b[0mlocal_ns\u001b[0m\u001b[0;34m)\u001b[0m\u001b[0;34m\u001b[0m\u001b[0m\n\u001b[0m\u001b[1;32m    357\u001b[0m                 \u001b[0mmessage\u001b[0m \u001b[0;34m=\u001b[0m \u001b[0;34m''\u001b[0m\u001b[0;34m\u001b[0m\u001b[0m\n\u001b[1;32m    358\u001b[0m             \u001b[0;32mexcept\u001b[0m \u001b[0mSystemExit\u001b[0m\u001b[0;34m:\u001b[0m\u001b[0;34m\u001b[0m\u001b[0m\n",
      "\u001b[0;32m~/anaconda2/envs/ipy36/lib/python3.6/site-packages/line_profiler.py\u001b[0m in \u001b[0;36mrunctx\u001b[0;34m(self, cmd, globals, locals)\u001b[0m\n\u001b[1;32m    149\u001b[0m         \u001b[0mself\u001b[0m\u001b[0;34m.\u001b[0m\u001b[0menable_by_count\u001b[0m\u001b[0;34m(\u001b[0m\u001b[0;34m)\u001b[0m\u001b[0;34m\u001b[0m\u001b[0m\n\u001b[1;32m    150\u001b[0m         \u001b[0;32mtry\u001b[0m\u001b[0;34m:\u001b[0m\u001b[0;34m\u001b[0m\u001b[0m\n\u001b[0;32m--> 151\u001b[0;31m             \u001b[0mexec_\u001b[0m\u001b[0;34m(\u001b[0m\u001b[0mcmd\u001b[0m\u001b[0;34m,\u001b[0m \u001b[0mglobals\u001b[0m\u001b[0;34m,\u001b[0m \u001b[0mlocals\u001b[0m\u001b[0;34m)\u001b[0m\u001b[0;34m\u001b[0m\u001b[0m\n\u001b[0m\u001b[1;32m    152\u001b[0m         \u001b[0;32mfinally\u001b[0m\u001b[0;34m:\u001b[0m\u001b[0;34m\u001b[0m\u001b[0m\n\u001b[1;32m    153\u001b[0m             \u001b[0mself\u001b[0m\u001b[0;34m.\u001b[0m\u001b[0mdisable_by_count\u001b[0m\u001b[0;34m(\u001b[0m\u001b[0;34m)\u001b[0m\u001b[0;34m\u001b[0m\u001b[0m\n",
      "\u001b[0;32m<string>\u001b[0m in \u001b[0;36m<module>\u001b[0;34m()\u001b[0m\n",
      "\u001b[0;31mTypeError\u001b[0m: not enough arguments: expected 12, got 10"
     ]
    }
   ],
   "source": [
    "%lprun -f TestkaoCol._KMAOcommu TestkaoCol._KMAOcommu(kmCol.phi,kmCol.r,kmCol.maxDlay,kmCol.dlay,kmCol.eta,kmCol.dlt,kmCol.fs,kmCol.dt,kmCol.kS,kmCol.omega)"
   ]
  },
  {
   "cell_type": "code",
   "execution_count": 119,
   "metadata": {
    "collapsed": true
   },
   "outputs": [],
   "source": [
    "%lprun -f Testkao._KMAOcommu Testkao._KMAOcommu(kmRow.phi,kmRow.r,kmRow.maxDlay,kmRow.dlayId,kmRow.eta,kmRow.dlt,kmRow.fs,kmRow.dt,kmRow.kS,kmRow.omega)"
   ]
  },
  {
   "cell_type": "code",
   "execution_count": 26,
   "metadata": {
    "collapsed": true
   },
   "outputs": [],
   "source": [
    "%lprun -f TestkaoCol._KMAOcommu4 TestkaoCol._KMAOcommu4(kmCol.phi,kmCol.r,kmCol.maxDlay,kmCol.dlayStep,kmCol.eta,kmCol.dlt,kmCol.fs,kmCol.dt,kmCol.kS,kmCol.omega,kmCol.d_sin,kmCol.d_cos)"
   ]
  }
 ],
 "metadata": {
  "kernelspec": {
   "display_name": "Python 3",
   "language": "python",
   "name": "python3"
  },
  "language_info": {
   "codemirror_mode": {
    "name": "ipython",
    "version": 3
   },
   "file_extension": ".py",
   "mimetype": "text/x-python",
   "name": "python",
   "nbconvert_exporter": "python",
   "pygments_lexer": "ipython3",
   "version": "3.6.3"
  }
 },
 "nbformat": 4,
 "nbformat_minor": 2
}
